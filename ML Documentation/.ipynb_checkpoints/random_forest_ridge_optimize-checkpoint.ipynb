{
 "cells": [
  {
   "cell_type": "code",
   "execution_count": 1,
   "id": "986f4bb4-50e0-442f-85c1-2963b0b744dc",
   "metadata": {},
   "outputs": [],
   "source": [
    "import pandas as pd"
   ]
  },
  {
   "cell_type": "markdown",
   "id": "29eed20d-44b0-496f-8a43-0d9284a276ed",
   "metadata": {},
   "source": [
    "### Data Transformation"
   ]
  },
  {
   "cell_type": "code",
   "execution_count": 2,
   "id": "56312455-b16e-4fb4-a0bb-63760d3e7d58",
   "metadata": {},
   "outputs": [],
   "source": [
    "df = pd.read_csv(r'..\\\\code\\\\datasets\\\\diabetic_data.csv')"
   ]
  },
  {
   "cell_type": "code",
   "execution_count": 3,
   "id": "90060ff4-2f77-4b3c-ace7-cdf8949b10d7",
   "metadata": {},
   "outputs": [],
   "source": [
    "df.drop(columns = ['encounter_id','patient_nbr','weight', 'medical_specialty'], inplace=True)\n",
    "df = df[df.race!='?']\n",
    "df = df[df.gender!='Unknown/Invalid']\n",
    "df = df[df.payer_code!='?']\n",
    "df.replace(to_replace=['Steady', 'Down', 'Up', '>30', '<30'], value='Yes', inplace=True)"
   ]
  },
  {
   "cell_type": "code",
   "execution_count": 4,
   "id": "d6391b06-5bb7-4eeb-89c7-41b5c0171a29",
   "metadata": {},
   "outputs": [],
   "source": [
    "df_breakout = pd.get_dummies(df, columns=[\"race\",\"gender\", \"age\", \"admission_type_id\", \"discharge_disposition_id\",\"admission_source_id\",\n",
    "                                          \"payer_code\", \"diag_1\", \"diag_2\", \"diag_3\", \"max_glu_serum\", \"A1Cresult\", \"metformin\", \"repaglinide\",\n",
    "                                          \"nateglinide\", \"chlorpropamide\", \"glimepiride\", \"acetohexamide\", \"glipizide\", \"glyburide\", \"tolbutamide\",\n",
    "                                          \"pioglitazone\", \"rosiglitazone\", \"acarbose\", \"miglitol\", \"troglitazone\", \"tolazamide\", \"examide\", \"citoglipton\",\n",
    "                                          \"insulin\", \"glyburide-metformin\", \"glipizide-metformin\", \"glimepiride-pioglitazone\", \"metformin-rosiglitazone\",\n",
    "                                          \"metformin-pioglitazone\", \"change\", \"diabetesMed\"], drop_first=True)"
   ]
  },
  {
   "cell_type": "markdown",
   "id": "14f2bede-ad7c-43e2-80f7-24a5acdce3e3",
   "metadata": {},
   "source": [
    "**Split dataset into train and test sets**"
   ]
  },
  {
   "cell_type": "code",
   "execution_count": 5,
   "id": "364b6ec8-24de-4d6f-a27e-704507d3cf18",
   "metadata": {},
   "outputs": [],
   "source": [
    "from sklearn.model_selection import train_test_split\n",
    "\n",
    "X = df_breakout.drop(columns = 'readmitted')\n",
    "y = df_breakout.readmitted\n",
    "y.replace(to_replace=['>30', '<30'], value='YES', inplace=True)"
   ]
  },
  {
   "cell_type": "code",
   "execution_count": 6,
   "id": "424f71dc-28be-4eec-8589-b9cd6b047907",
   "metadata": {},
   "outputs": [],
   "source": [
    "X_train, X_test, y_train, y_test = train_test_split(X, y, test_size=0.25, random_state=0)"
   ]
  },
  {
   "cell_type": "markdown",
   "id": "acceead4-59c2-4739-89e7-7f2cf80bff67",
   "metadata": {},
   "source": [
    "### Ridge Classifier"
   ]
  },
  {
   "cell_type": "code",
   "execution_count": 7,
   "id": "74181b4f-bacb-4239-826c-e9872e237cad",
   "metadata": {},
   "outputs": [],
   "source": [
    "from sklearn.linear_model import RidgeClassifier\n",
    "clf = RidgeClassifier().fit(X_train, y_train)\n",
    "\n",
    "prediction = clf.predict(X_test)\n",
    "predSeries = pd.Series(prediction)"
   ]
  },
  {
   "cell_type": "code",
   "execution_count": 8,
   "id": "ea30d412-6753-48f6-b53f-29bd924012ca",
   "metadata": {},
   "outputs": [
    {
     "data": {
      "text/plain": [
       "0.6409072661581694"
      ]
     },
     "execution_count": 8,
     "metadata": {},
     "output_type": "execute_result"
    }
   ],
   "source": [
    "clf.score(X_test, y_test)"
   ]
  },
  {
   "cell_type": "code",
   "execution_count": 9,
   "id": "d3107b80-5a4a-418e-a436-0f021a15b619",
   "metadata": {},
   "outputs": [
    {
     "name": "stdout",
     "output_type": "stream",
     "text": [
      "Predicted    NO   Yes\n",
      "Actual               \n",
      "NO         5607  2340\n",
      "Yes        3027  3972\n"
     ]
    }
   ],
   "source": [
    "y_test = y_test.reset_index(drop = 'True')\n",
    "ML_result = pd.concat([y_test, predSeries], axis=1)\n",
    "ML_result.columns = ['True','Predicted']\n",
    "confusion_matrix = pd.crosstab(ML_result['True'], ML_result['Predicted'], rownames=['Actual'], colnames=['Predicted'])\n",
    "print (confusion_matrix)"
   ]
  },
  {
   "cell_type": "markdown",
   "id": "8cc2ddbc-a23a-4f68-9b84-a46c38bd344a",
   "metadata": {},
   "source": [
    "### Random Forest Classifier"
   ]
  },
  {
   "cell_type": "code",
   "execution_count": 10,
   "id": "ee7cd41d-5d92-4942-a97c-2e1657b42ef2",
   "metadata": {},
   "outputs": [
    {
     "name": "stderr",
     "output_type": "stream",
     "text": [
      "[Parallel(n_jobs=-1)]: Using backend ThreadingBackend with 12 concurrent workers.\n",
      "[Parallel(n_jobs=-1)]: Done  26 tasks      | elapsed:    6.3s\n",
      "[Parallel(n_jobs=-1)]: Done 176 tasks      | elapsed:   32.0s\n",
      "[Parallel(n_jobs=-1)]: Done 426 tasks      | elapsed:  1.2min\n",
      "[Parallel(n_jobs=-1)]: Done 500 out of 500 | elapsed:  1.4min finished\n",
      "[Parallel(n_jobs=12)]: Using backend ThreadingBackend with 12 concurrent workers.\n",
      "[Parallel(n_jobs=12)]: Done  26 tasks      | elapsed:    0.0s\n",
      "[Parallel(n_jobs=12)]: Done 176 tasks      | elapsed:    0.3s\n",
      "[Parallel(n_jobs=12)]: Done 426 tasks      | elapsed:    0.8s\n",
      "[Parallel(n_jobs=12)]: Done 500 out of 500 | elapsed:    0.9s finished\n"
     ]
    }
   ],
   "source": [
    "from sklearn.ensemble import RandomForestClassifier\n",
    "\n",
    "clf = RandomForestClassifier(n_estimators = 500, criterion = 'gini', max_features = 'sqrt', random_state=0, verbose=True, n_jobs = -1)\n",
    "clf.fit(X_train, y_train)\n",
    "\n",
    "prediction = clf.predict(X_test)\n",
    "predSeries = pd.Series(prediction)"
   ]
  },
  {
   "cell_type": "code",
   "execution_count": 11,
   "id": "a588fd70-c09a-45e8-8064-ced816914840",
   "metadata": {},
   "outputs": [
    {
     "name": "stderr",
     "output_type": "stream",
     "text": [
      "[Parallel(n_jobs=12)]: Using backend ThreadingBackend with 12 concurrent workers.\n",
      "[Parallel(n_jobs=12)]: Done  26 tasks      | elapsed:    0.0s\n",
      "[Parallel(n_jobs=12)]: Done 176 tasks      | elapsed:    0.3s\n",
      "[Parallel(n_jobs=12)]: Done 426 tasks      | elapsed:    0.8s\n",
      "[Parallel(n_jobs=12)]: Done 500 out of 500 | elapsed:    0.9s finished\n"
     ]
    },
    {
     "data": {
      "text/plain": [
       "0.6552254783888666"
      ]
     },
     "execution_count": 11,
     "metadata": {},
     "output_type": "execute_result"
    }
   ],
   "source": [
    "clf.score(X_test, y_test)"
   ]
  },
  {
   "cell_type": "code",
   "execution_count": 12,
   "id": "a37569e5-1c4a-4875-988c-0921bcd025b1",
   "metadata": {},
   "outputs": [
    {
     "name": "stdout",
     "output_type": "stream",
     "text": [
      "Predicted    NO   Yes\n",
      "Actual               \n",
      "NO         5816  2131\n",
      "Yes        3022  3977\n"
     ]
    }
   ],
   "source": [
    "y_test = y_test.reset_index(drop = 'True')\n",
    "ML_result = pd.concat([y_test, predSeries], axis=1)\n",
    "ML_result.columns = ['True','Predicted']\n",
    "confusion_matrix = pd.crosstab(ML_result['True'], ML_result['Predicted'], rownames=['Actual'], colnames=['Predicted'])\n",
    "print (confusion_matrix)"
   ]
  }
 ],
 "metadata": {
  "kernelspec": {
   "display_name": "Python 3",
   "language": "python",
   "name": "python3"
  },
  "language_info": {
   "codemirror_mode": {
    "name": "ipython",
    "version": 3
   },
   "file_extension": ".py",
   "mimetype": "text/x-python",
   "name": "python",
   "nbconvert_exporter": "python",
   "pygments_lexer": "ipython3",
   "version": "3.8.8"
  }
 },
 "nbformat": 4,
 "nbformat_minor": 5
}
