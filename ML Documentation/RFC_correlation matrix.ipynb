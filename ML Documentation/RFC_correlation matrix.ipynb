{
 "cells": [
  {
   "cell_type": "code",
   "execution_count": 17,
   "id": "11f9d292-633a-4131-b6cf-49046c5380c0",
   "metadata": {},
   "outputs": [],
   "source": [
    "import pandas as pd\n",
    "import numpy as np\n",
    "from sklearn.model_selection import train_test_split\n",
    "from sklearn.ensemble import RandomForestClassifier\n",
    "import seaborn as sns\n",
    "import matplotlib.pyplot as plt"
   ]
  },
  {
   "cell_type": "markdown",
   "id": "e402d55f-5df1-4152-828e-02764b60a28a",
   "metadata": {},
   "source": [
    "### Data Transformation"
   ]
  },
  {
   "cell_type": "code",
   "execution_count": 2,
   "id": "892ca419-5b5d-46cb-9805-55c8ee7b5abe",
   "metadata": {},
   "outputs": [],
   "source": [
    "df = pd.read_csv(r'..\\\\code\\\\datasets\\\\diabetic_data.csv')"
   ]
  },
  {
   "cell_type": "code",
   "execution_count": 3,
   "id": "c44af7db-3b03-4e73-966d-e60f94b0848c",
   "metadata": {},
   "outputs": [],
   "source": [
    "df.drop(columns = ['encounter_id','patient_nbr','weight', 'medical_specialty'], inplace=True)\n",
    "df = df[df.race!='?']\n",
    "df = df[df.gender!='Unknown/Invalid']\n",
    "df = df[df.payer_code!='?']\n",
    "df.replace(to_replace=['Steady', 'Down', 'Up', '>30', '<30'], value='Yes', inplace=True)"
   ]
  },
  {
   "cell_type": "code",
   "execution_count": 4,
   "id": "947f8f2d-eeba-4690-9c13-05b4ede11635",
   "metadata": {},
   "outputs": [],
   "source": [
    "df_breakout = pd.get_dummies(df, columns=[\"race\",\"gender\", \"age\", \"admission_type_id\", \"discharge_disposition_id\",\"admission_source_id\",\n",
    "                                          \"payer_code\", \"diag_1\", \"diag_2\", \"diag_3\", \"max_glu_serum\", \"A1Cresult\", \"metformin\", \"repaglinide\",\n",
    "                                          \"nateglinide\", \"chlorpropamide\", \"glimepiride\", \"acetohexamide\", \"glipizide\", \"glyburide\", \"tolbutamide\",\n",
    "                                          \"pioglitazone\", \"rosiglitazone\", \"acarbose\", \"miglitol\", \"troglitazone\", \"tolazamide\", \"examide\", \"citoglipton\",\n",
    "                                          \"insulin\", \"glyburide-metformin\", \"glipizide-metformin\", \"glimepiride-pioglitazone\", \"metformin-rosiglitazone\",\n",
    "                                          \"metformin-pioglitazone\", \"change\", \"diabetesMed\"], drop_first=True)"
   ]
  },
  {
   "cell_type": "markdown",
   "id": "3f21d43f-9e44-4a69-867e-9000f67c7948",
   "metadata": {},
   "source": [
    "**Split dataset into train and test sets**"
   ]
  },
  {
   "cell_type": "code",
   "execution_count": 5,
   "id": "e303ffbd-f2e9-4a74-8fe2-c226b712d220",
   "metadata": {},
   "outputs": [],
   "source": [
    "X = df_breakout.drop(columns = 'readmitted')\n",
    "y = df_breakout.readmitted\n",
    "y.replace(to_replace=['>30', '<30'], value='YES', inplace=True)"
   ]
  },
  {
   "cell_type": "code",
   "execution_count": 6,
   "id": "49e2ad02-6b76-4fda-aef3-b44b1146a12f",
   "metadata": {},
   "outputs": [],
   "source": [
    "X_train, X_test, y_train, y_test = train_test_split(X, y, test_size=0.25, random_state=0)"
   ]
  },
  {
   "cell_type": "markdown",
   "id": "7c66cca9-e99a-487d-8558-9732206224c9",
   "metadata": {},
   "source": [
    "### Random Forest Classifier"
   ]
  },
  {
   "cell_type": "code",
   "execution_count": 7,
   "id": "3dcd204c-4d99-45b6-9ae5-8984e26a2db2",
   "metadata": {},
   "outputs": [
    {
     "data": {
      "text/plain": [
       "0.6552254783888666"
      ]
     },
     "execution_count": 7,
     "metadata": {},
     "output_type": "execute_result"
    }
   ],
   "source": [
    "clf = RandomForestClassifier(n_estimators = 500, criterion = 'gini', max_features = 'sqrt', random_state=0, n_jobs = -1)\n",
    "clf.fit(X_train, y_train)\n",
    "\n",
    "prediction = clf.predict(X_test)\n",
    "predSeries = pd.Series(prediction)\n",
    "\n",
    "clf.score(X_test, y_test)"
   ]
  },
  {
   "cell_type": "code",
   "execution_count": 8,
   "id": "09ff4ded-7075-40e1-9a47-7efb772ef266",
   "metadata": {},
   "outputs": [
    {
     "name": "stdout",
     "output_type": "stream",
     "text": [
      "Predicted    NO   Yes\n",
      "Actual               \n",
      "NO         5816  2131\n",
      "Yes        3022  3977\n"
     ]
    }
   ],
   "source": [
    "y_test = y_test.reset_index(drop = 'True')\n",
    "ML_result = pd.concat([y_test, predSeries], axis=1)\n",
    "ML_result.columns = ['True','Predicted']\n",
    "confusion_matrix = pd.crosstab(ML_result['True'], ML_result['Predicted'], rownames=['Actual'], colnames=['Predicted'])\n",
    "print (confusion_matrix)"
   ]
  },
  {
   "cell_type": "code",
   "execution_count": 24,
   "id": "548af8ae-7b2c-4f71-9da9-a52e3339d8e2",
   "metadata": {},
   "outputs": [
    {
     "data": {
      "image/png": "[encoded data removed]",
      "text/plain": [
       "<Figure size 576x432 with 2 Axes>"
      ]
     },
     "metadata": {
      "needs_background": "light"
     },
     "output_type": "display_data"
    }
   ],
   "source": [
    "plt.rcParams[\"figure.figsize\"] = (8,6)\n",
    "plt.rcParams.update({'font.size': 16})\n",
    "\n",
    "sns.heatmap(confusion_matrix,annot=True,cmap='Blues', fmt='g')\n",
    "plt.show()"
   ]
  },
  {
   "cell_type": "code",
   "execution_count": null,
   "id": "dcbc9db5-bdd8-45d2-874d-55d37c3755db",
   "metadata": {},
   "outputs": [],
   "source": []
  }
 ],
 "metadata": {
  "kernelspec": {
   "display_name": "Python 3",
   "language": "python",
   "name": "python3"
  },
  "language_info": {
   "codemirror_mode": {
    "name": "ipython",
    "version": 3
   },
   "file_extension": ".py",
   "mimetype": "text/x-python",
   "name": "python",
   "nbconvert_exporter": "python",
   "pygments_lexer": "ipython3",
   "version": "3.8.8"
  }
 },
 "nbformat": 4,
 "nbformat_minor": 5
}
