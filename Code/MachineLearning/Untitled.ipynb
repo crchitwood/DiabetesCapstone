{
 "cells": [
  {
   "cell_type": "code",
   "execution_count": null,
   "id": "1b6d47ca-ad52-4d5a-bf9a-b7ca43c49d91",
   "metadata": {},
   "outputs": [],
   "source": []
  }
 ],
 "metadata": {
  "kernelspec": {
   "display_name": "Python 3",
   "language": "python",
   "name": "python3"
  },
  "language_info": {
   "codemirror_mode": {
    "name": "ipython",
    "version": 3
   },
   "file_extension": ".py",
   "mimetype": "text/x-python",
   "name": "python",
   "nbconvert_exporter": "python",
   "pygments_lexer": "ipython3",
   "version": "3.8.8"
  }
 },
 "nbformat": 4,
 "nbformat_minor": 5
}
