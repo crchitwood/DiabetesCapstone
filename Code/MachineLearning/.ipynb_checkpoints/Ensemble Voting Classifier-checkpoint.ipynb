{
 "cells": [
  {
   "cell_type": "code",
   "execution_count": 1,
   "id": "986f4bb4-50e0-442f-85c1-2963b0b744dc",
   "metadata": {},
   "outputs": [],
   "source": [
    "import pandas as pd\n",
    "import numpy as np\n",
    "from sklearn.model_selection import train_test_split\n",
    "from sklearn.linear_model import RidgeClassifier\n",
    "from sklearn.linear_model import SGDClassifier\n",
    "from sklearn.preprocessing import StandardScaler\n",
    "from sklearn.pipeline import make_pipeline\n",
    "from sklearn.ensemble import RandomForestClassifier, VotingClassifier\n",
    "from sklearn.neighbors import KNeighborsClassifier\n",
    "from sklearn.metrics import plot_roc_curve\n",
    "import matplotlib.pyplot as plt"
   ]
  },
  {
   "cell_type": "markdown",
   "id": "29eed20d-44b0-496f-8a43-0d9284a276ed",
   "metadata": {},
   "source": [
    "### Data Transformation"
   ]
  },
  {
   "cell_type": "code",
   "execution_count": 2,
   "id": "56312455-b16e-4fb4-a0bb-63760d3e7d58",
   "metadata": {},
   "outputs": [],
   "source": [
    "df = pd.read_csv(r'..\\\\datasets\\\\diabetic_data.csv')"
   ]
  },
  {
   "cell_type": "code",
   "execution_count": 3,
   "id": "90060ff4-2f77-4b3c-ace7-cdf8949b10d7",
   "metadata": {},
   "outputs": [],
   "source": [
    "df.drop(columns = ['encounter_id','patient_nbr','weight', 'medical_specialty'], inplace=True)\n",
    "df = df[df.race!='?']\n",
    "df = df[df.gender!='Unknown/Invalid']\n",
    "df = df[df.payer_code!='?']\n",
    "df.replace(to_replace=['Steady', 'Down', 'Up', '>30', '<30'], value='Yes', inplace=True)"
   ]
  },
  {
   "cell_type": "code",
   "execution_count": 4,
   "id": "d6391b06-5bb7-4eeb-89c7-41b5c0171a29",
   "metadata": {},
   "outputs": [],
   "source": [
    "df_breakout = pd.get_dummies(df, columns=[\"race\",\"gender\", \"age\", \"admission_type_id\", \"discharge_disposition_id\",\"admission_source_id\",\n",
    "                                          \"payer_code\", \"diag_1\", \"diag_2\", \"diag_3\", \"max_glu_serum\", \"A1Cresult\", \"metformin\", \"repaglinide\",\n",
    "                                          \"nateglinide\", \"chlorpropamide\", \"glimepiride\", \"acetohexamide\", \"glipizide\", \"glyburide\", \"tolbutamide\",\n",
    "                                          \"pioglitazone\", \"rosiglitazone\", \"acarbose\", \"miglitol\", \"troglitazone\", \"tolazamide\", \"examide\", \"citoglipton\",\n",
    "                                          \"insulin\", \"glyburide-metformin\", \"glipizide-metformin\", \"glimepiride-pioglitazone\", \"metformin-rosiglitazone\",\n",
    "                                          \"metformin-pioglitazone\", \"change\", \"diabetesMed\"], drop_first=True)"
   ]
  },
  {
   "cell_type": "markdown",
   "id": "14f2bede-ad7c-43e2-80f7-24a5acdce3e3",
   "metadata": {},
   "source": [
    "**Split dataset into train and test sets**"
   ]
  },
  {
   "cell_type": "code",
   "execution_count": 5,
   "id": "364b6ec8-24de-4d6f-a27e-704507d3cf18",
   "metadata": {},
   "outputs": [],
   "source": [
    "X = df_breakout.drop(columns = 'readmitted')\n",
    "y = df_breakout.readmitted\n",
    "y.replace(to_replace=['>30', '<30'], value='YES', inplace=True)"
   ]
  },
  {
   "cell_type": "code",
   "execution_count": 6,
   "id": "424f71dc-28be-4eec-8589-b9cd6b047907",
   "metadata": {},
   "outputs": [],
   "source": [
    "X_train, X_test, y_train, y_test = train_test_split(X, y, test_size=0.25, random_state=0)"
   ]
  },
  {
   "cell_type": "markdown",
   "id": "bcc9dff2-0988-487e-beea-7c97e1ff9896",
   "metadata": {},
   "source": [
    "**Ensemble Voting Classifier**"
   ]
  },
  {
   "cell_type": "code",
   "execution_count": 7,
   "id": "8ac47b05-4786-4784-9d52-32db7765b46d",
   "metadata": {},
   "outputs": [
    {
     "name": "stderr",
     "output_type": "stream",
     "text": [
      "C:\\Users\\kaigu\\anaconda3\\lib\\site-packages\\sklearn\\linear_model\\_stochastic_gradient.py:574: ConvergenceWarning: Maximum number of iteration reached before convergence. Consider increasing max_iter to improve the fit.\n",
      "  warnings.warn(\"Maximum number of iteration reached before \"\n"
     ]
    },
    {
     "name": "stdout",
     "output_type": "stream",
     "text": [
      "0.6517462866318747\n",
      "Predicted    NO   Yes\n",
      "Actual               \n",
      "NO         6272  1675\n",
      "Yes        3530  3469\n"
     ]
    },
    {
     "ename": "NameError",
     "evalue": "name 'ax' is not defined",
     "output_type": "error",
     "traceback": [
      "\u001b[1;31m---------------------------------------------------------------------------\u001b[0m",
      "\u001b[1;31mNameError\u001b[0m                                 Traceback (most recent call last)",
      "\u001b[1;32m<ipython-input-7-ba391a8f79fc>\u001b[0m in \u001b[0;36m<module>\u001b[1;34m\u001b[0m\n\u001b[0;32m     16\u001b[0m \u001b[0mprint\u001b[0m \u001b[1;33m(\u001b[0m\u001b[0mconfusion_matrix\u001b[0m\u001b[1;33m)\u001b[0m\u001b[1;33m\u001b[0m\u001b[1;33m\u001b[0m\u001b[0m\n\u001b[0;32m     17\u001b[0m \u001b[1;33m\u001b[0m\u001b[0m\n\u001b[1;32m---> 18\u001b[1;33m \u001b[0meclf1_disp\u001b[0m \u001b[1;33m=\u001b[0m \u001b[0mplot_roc_curve\u001b[0m\u001b[1;33m(\u001b[0m\u001b[0msgd\u001b[0m\u001b[1;33m,\u001b[0m \u001b[0mX_test\u001b[0m\u001b[1;33m,\u001b[0m \u001b[0my_test\u001b[0m\u001b[1;33m,\u001b[0m \u001b[0max\u001b[0m\u001b[1;33m=\u001b[0m\u001b[0max\u001b[0m\u001b[1;33m,\u001b[0m \u001b[0malpha\u001b[0m\u001b[1;33m=\u001b[0m\u001b[1;36m0.8\u001b[0m\u001b[1;33m)\u001b[0m\u001b[1;33m\u001b[0m\u001b[1;33m\u001b[0m\u001b[0m\n\u001b[0m\u001b[0;32m     19\u001b[0m \u001b[0mplt\u001b[0m\u001b[1;33m.\u001b[0m\u001b[0mshow\u001b[0m\u001b[1;33m(\u001b[0m\u001b[1;33m)\u001b[0m\u001b[1;33m\u001b[0m\u001b[1;33m\u001b[0m\u001b[0m\n",
      "\u001b[1;31mNameError\u001b[0m: name 'ax' is not defined"
     ]
    }
   ],
   "source": [
    "rdg = RidgeClassifier(alpha = 88)\n",
    "rfc = RandomForestClassifier(n_estimators = 500, criterion = 'gini', max_features = 'sqrt', random_state=0, n_jobs = -1)\n",
    "sgd = make_pipeline(StandardScaler(),SGDClassifier(loss = 'log', penalty = 'l1', max_iter = 1000, n_jobs = -1, n_iter_no_change = 5, alpha = 0.0001))\n",
    "knn = KNeighborsClassifier(n_neighbors=11, leaf_size=1, p=1,n_jobs=-1)\n",
    "\n",
    "eclf1 = VotingClassifier(estimators=[('rdg', rdg), ('rfc', rfc), ('sgd', sgd), ('knn', knn)], voting='hard')\n",
    "eclf1 = eclf1.fit(X_train, y_train)\n",
    "prediction = eclf1.predict(X_test)\n",
    "predSeries = pd.Series(prediction)\n",
    "print(eclf1.score(X_test, y_test))\n",
    "\n",
    "y_test = y_test.reset_index(drop = 'True')\n",
    "ML_result = pd.concat([y_test, predSeries], axis=1)\n",
    "ML_result.columns = ['True','Predicted']\n",
    "confusion_matrix = pd.crosstab(ML_result['True'], ML_result['Predicted'], rownames=['Actual'], colnames=['Predicted'])\n",
    "print (confusion_matrix)\n",
    "\n"
   ]
  },
  {
   "cell_type": "code",
   "execution_count": null,
   "id": "a156c09e-3a8a-48a4-b9dc-f3e8aae946bb",
   "metadata": {},
   "outputs": [],
   "source": []
  }
 ],
 "metadata": {
  "kernelspec": {
   "display_name": "Python 3",
   "language": "python",
   "name": "python3"
  },
  "language_info": {
   "codemirror_mode": {
    "name": "ipython",
    "version": 3
   },
   "file_extension": ".py",
   "mimetype": "text/x-python",
   "name": "python",
   "nbconvert_exporter": "python",
   "pygments_lexer": "ipython3",
   "version": "3.8.8"
  }
 },
 "nbformat": 4,
 "nbformat_minor": 5
}
