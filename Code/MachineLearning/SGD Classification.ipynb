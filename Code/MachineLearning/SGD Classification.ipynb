{
 "cells": [
  {
   "cell_type": "markdown",
   "id": "91304ae1-cb4e-4f40-a0b0-990f88949585",
   "metadata": {},
   "source": [
    "Importing Dataset."
   ]
  },
  {
   "cell_type": "code",
   "execution_count": 4,
   "id": "2e74c118-6e22-473c-8d2d-221367e2916a",
   "metadata": {},
   "outputs": [],
   "source": [
    "import pandas as pd\n",
    "\n",
    "df = pd.read_csv(r'C:\\Users\\Keith\\AppData\\Local\\Temp\\7zO8AA2B424\\diabetic_data.csv')"
   ]
  },
  {
   "cell_type": "markdown",
   "id": "273ba168-cec2-4755-9230-652908632380",
   "metadata": {},
   "source": [
    "Checking the column names and types for columns in dataset."
   ]
  },
  {
   "cell_type": "code",
   "execution_count": 9,
   "id": "270e7212-87f0-4083-938b-76973ea6698c",
   "metadata": {},
   "outputs": [],
   "source": [
    "df.info()"
   ]
  },
  {
   "cell_type": "markdown",
   "id": "fdb4eec5-ed9a-4bbd-9c34-78c3a59c33c6",
   "metadata": {},
   "source": [
    "Imports"
   ]
  },
  {
   "cell_type": "code",
   "execution_count": 150,
   "id": "752703cc-1380-4510-9f56-a2b3fd75bf27",
   "metadata": {},
   "outputs": [],
   "source": [
    "import numpy as np\n",
    "from sklearn.model_selection import train_test_split\n",
    "from sklearn.linear_model import LinearRegression\n",
    "from sklearn import linear_model\n",
    "from sklearn.datasets import make_regression \n",
    "from sklearn import svm\n",
    "from sklearn.linear_model import SGDClassifier\n",
    "from sklearn.preprocessing import StandardScaler\n",
    "from sklearn.pipeline import make_pipeline\n",
    "from sklearn import datasets\n",
    "from sklearn.linear_model import LogisticRegression\n",
    "from sklearn.model_selection import KFold\n",
    "from sklearn.metrics import accuracy_score"
   ]
  },
  {
   "cell_type": "markdown",
   "id": "880db3d2-85ce-4513-8cc1-85cac740ebe8",
   "metadata": {},
   "source": [
    "Dropping unnecessary values from race and gender columns.\n",
    "Removing columns that would not benefit our machine learning model."
   ]
  },
  {
   "cell_type": "code",
   "execution_count": 151,
   "id": "1dfb1562-4f6e-45ee-b1d1-6b9d8dae0b0b",
   "metadata": {},
   "outputs": [],
   "source": [
    "df = df[df.race!='?']\n",
    "df = df[df.gender!='Unknown/Invalid']\n",
    "df.drop(columns = ['encounter_id','patient_nbr','weight', 'payer_code'], inplace=True)"
   ]
  },
  {
   "cell_type": "code",
   "execution_count": 152,
   "id": "05c22ede-886d-4932-9efb-5f679c95785e",
   "metadata": {},
   "outputs": [],
   "source": [
    "df.drop(columns = ['medical_specialty', 'number_emergency'], inplace = True)"
   ]
  },
  {
   "cell_type": "markdown",
   "id": "4af7eb40-780b-4e93-92f9-2578455d868c",
   "metadata": {},
   "source": [
    "Creating dummy variables for categorical data in order to run machine learning model."
   ]
  },
  {
   "cell_type": "code",
   "execution_count": 159,
   "id": "f1b68e98-6739-4ef3-938d-dc1d20fa73c2",
   "metadata": {},
   "outputs": [],
   "source": [
    "df.replace(to_replace=['Steady', 'Down', 'Up'], value='Yes', inplace=True)\n",
    "df.insulin.value_counts()\n",
    "\n",
    "df_breakout = pd.get_dummies(df, columns=[\"race\",\"gender\", \"age\", \"admission_type_id\", \"discharge_disposition_id\",\"admission_source_id\",\n",
    "                                         \"diag_1\", \"diag_2\", \"diag_3\", \"max_glu_serum\", \"A1Cresult\", \"metformin\", \"repaglinide\",\n",
    "                                          \"nateglinide\", \"chlorpropamide\", \"glimepiride\", \"acetohexamide\", \"glipizide\", \"glyburide\", \"tolbutamide\",\n",
    "                                          \"pioglitazone\", \"rosiglitazone\", \"acarbose\", \"miglitol\", \"troglitazone\", \"tolazamide\", \"examide\", \"citoglipton\",\n",
    "                                          \"insulin\", \"glyburide-metformin\", \"glipizide-metformin\", \"glimepiride-pioglitazone\", \"metformin-rosiglitazone\",\n",
    "                                          \"metformin-pioglitazone\", \"change\", \"diabetesMed\"], drop_first=True)\n",
    "\n",
    "\n"
   ]
  },
  {
   "cell_type": "code",
   "execution_count": 160,
   "id": "88898734-36cb-4009-90a8-0554d8205461",
   "metadata": {},
   "outputs": [],
   "source": [
    "X = df_breakout.drop(columns = ['readmitted'])\n",
    "y = df['readmitted']\n",
    "y.replace(to_replace=['>30', '<30'], value='YES', inplace=True)\n",
    "\n",
    "X_train, X_test, y_train, y_test = train_test_split(X, y, test_size=0.25, random_state = 0)"
   ]
  },
  {
   "cell_type": "markdown",
   "id": "b56e7fe8-9ca6-4885-9f4a-9dd4c239f3e9",
   "metadata": {},
   "source": [
    "Hyperparameter Tuning "
   ]
  },
  {
   "cell_type": "code",
   "execution_count": 161,
   "id": "9875136b-35a3-456f-b173-406f122f688d",
   "metadata": {},
   "outputs": [],
   "source": [
    "# clf = make_pipeline(StandardScaler(),SGDClassifier(loss = 'log', penalty = 'l1', max_iter = 1000, verbose = True, n_jobs = -1))\n",
    "#SCORE = .5720...without yes/no\n",
    "#SCORE = .6202 ... with yes/no\n",
    "\n",
    "# clf = make_pipeline(StandardScaler(),SGDClassifier(loss = 'log', penalty = 'l1', max_iter = 1000, verbose = True, n_jobs = -1, n_iter_no_change = 1))\n",
    "#score = 0.5709805813532747 w/o yes/no\n",
    "# clf = make_pipeline(StandardScaler(),SGDClassifier(loss = 'log', penalty = 'l1', max_iter = 1000, verbose = True, n_jobs = -1, n_iter_no_change = 5))\n",
    "#score = .572... w/o yes/no\n",
    "# clf = make_pipeline(StandardScaler(),SGDClassifier(loss = 'log', penalty = 'l1', max_iter = 1000, verbose = True, n_jobs = -1, n_iter_no_change = 10))\n",
    "#score = .5704... w/o yes/no\n",
    "# clf = make_pipeline(StandardScaler(),SGDClassifier(loss = 'log', penalty = 'l1', max_iter = 1000, verbose = True, n_jobs = -1, n_iter_no_change = 5, alpha = 0.0001))\n",
    "# Score = 0.5719856872914405... w/o yes/no\n",
    "# clf = make_pipeline(StandardScaler(),SGDClassifier(loss = 'log', penalty = 'l1', max_iter = 1000, verbose = True, n_jobs = -1, n_iter_no_change = 5, alpha = 0.01))\n",
    "# Score = 0.5621758533349415... w/o yes/no\n",
    "# clf = make_pipeline(StandardScaler(),SGDClassifier(loss = 'log', penalty = 'l1', max_iter = 1000, verbose = True, n_jobs = -1, n_iter_no_change = 5, alpha = 1))\n",
    "# Score = 0.5417118964338842\n",
    "\n",
    "# clf = make_pipeline(StandardScaler(),SGDClassifier(loss = 'log', penalty = 'l1', max_iter = 1000, verbose = True, n_jobs = -1, n_iter_no_change = 5, alpha = 0.0001))\n",
    "# score = 0.6206730189361959 with yes/no (best one yet)"
   ]
  },
  {
   "cell_type": "markdown",
   "id": "707c40c6-3c8f-4a7a-b2a9-a3d481c57011",
   "metadata": {},
   "source": [
    "Testing different variations of the data."
   ]
  },
  {
   "cell_type": "code",
   "execution_count": 162,
   "id": "0291efb5-5db6-431d-bc80-d9a9bb865299",
   "metadata": {},
   "outputs": [],
   "source": [
    "\n",
    "#FOR EXCEL SHEET\n",
    "# clf = make_pipeline(StandardScaler(),SGDClassifier(verbose = True, n_jobs = -1))\n",
    "# Score = 0.5435262576880618 (BASE CASE) w medication and medical specialty\n",
    "\n",
    "# clf = make_pipeline(StandardScaler(),SGDClassifier(verbose = True, n_jobs = -1))\n",
    "# Score = 0.5464559964620271 w medication... dropped medical specialty\n",
    "\n",
    "# clf = make_pipeline(StandardScaler(),SGDClassifier(verbose = True, n_jobs = -1))\n",
    "# Score = 0.5458127286616009 w/o medication and w/o medical specialty\n",
    "# Score = w med  w/o medical specialty\n",
    "\n",
    "# Score = 0.5500743778394243 w med  w/o medical specialty w/o number_emergency\n",
    "# Score = 0.6022192739114702 w med w/o medical specialty w/o number_emergency w readmitted Y/N \n",
    "# Score = 0.6079282756402525 w med w/o medical specialty w/o number_emergency w readmitted Y/N w Medlist encoded\n",
    "\n",
    "\n",
    "clf = make_pipeline(StandardScaler(),SGDClassifier(loss = 'log', penalty = 'l1', max_iter = 1000, verbose = True, n_jobs = -1, n_iter_no_change = 5, alpha = 0.0001))\n",
    "# Score = 0.6323322478189202 w med w/o medical specialty w/o number_emergency w readmitted Y/N Medlist encoded  HYPERTUNED"
   ]
  },
  {
   "cell_type": "code",
   "execution_count": 165,
   "id": "4f144bee-f2a3-47a4-a01d-9e0de940595d",
   "metadata": {},
   "outputs": [],
   "source": [
    "clf.fit(X_train, y_train)"
   ]
  },
  {
   "cell_type": "code",
   "execution_count": 164,
   "id": "859ca312-c4d4-49ef-95de-393b22fad099",
   "metadata": {},
   "outputs": [
    {
     "data": {
      "text/plain": [
       "0.6323322478189202"
      ]
     },
     "execution_count": 164,
     "metadata": {},
     "output_type": "execute_result"
    }
   ],
   "source": [
    "y_pred=clf.predict(X_test)\n",
    "# y_pred\n",
    "clf.score(X_test, y_test)\n"
   ]
  },
  {
   "cell_type": "code",
   "execution_count": 45,
   "id": "eb755b1c-53ce-49ce-8c61-75a88c27d578",
   "metadata": {},
   "outputs": [],
   "source": [
    "predSeries = pd.Series(y_pred)"
   ]
  },
  {
   "cell_type": "code",
   "execution_count": 46,
   "id": "1cfcce46-cfcb-44e4-965e-0dc7fc903081",
   "metadata": {},
   "outputs": [
    {
     "data": {
      "text/html": [
       "<div>\n",
       "<style scoped>\n",
       "    .dataframe tbody tr th:only-of-type {\n",
       "        vertical-align: middle;\n",
       "    }\n",
       "\n",
       "    .dataframe tbody tr th {\n",
       "        vertical-align: top;\n",
       "    }\n",
       "\n",
       "    .dataframe thead th {\n",
       "        text-align: right;\n",
       "    }\n",
       "</style>\n",
       "<table border=\"1\" class=\"dataframe\">\n",
       "  <thead>\n",
       "    <tr style=\"text-align: right;\">\n",
       "      <th></th>\n",
       "      <th>True</th>\n",
       "      <th>Predicted</th>\n",
       "    </tr>\n",
       "  </thead>\n",
       "  <tbody>\n",
       "    <tr>\n",
       "      <th>0</th>\n",
       "      <td>YES</td>\n",
       "      <td>YES</td>\n",
       "    </tr>\n",
       "    <tr>\n",
       "      <th>1</th>\n",
       "      <td>NO</td>\n",
       "      <td>YES</td>\n",
       "    </tr>\n",
       "    <tr>\n",
       "      <th>2</th>\n",
       "      <td>NO</td>\n",
       "      <td>NO</td>\n",
       "    </tr>\n",
       "    <tr>\n",
       "      <th>3</th>\n",
       "      <td>YES</td>\n",
       "      <td>NO</td>\n",
       "    </tr>\n",
       "    <tr>\n",
       "      <th>4</th>\n",
       "      <td>NO</td>\n",
       "      <td>NO</td>\n",
       "    </tr>\n",
       "    <tr>\n",
       "      <th>5</th>\n",
       "      <td>YES</td>\n",
       "      <td>NO</td>\n",
       "    </tr>\n",
       "    <tr>\n",
       "      <th>6</th>\n",
       "      <td>NO</td>\n",
       "      <td>NO</td>\n",
       "    </tr>\n",
       "    <tr>\n",
       "      <th>7</th>\n",
       "      <td>YES</td>\n",
       "      <td>NO</td>\n",
       "    </tr>\n",
       "    <tr>\n",
       "      <th>8</th>\n",
       "      <td>NO</td>\n",
       "      <td>YES</td>\n",
       "    </tr>\n",
       "    <tr>\n",
       "      <th>9</th>\n",
       "      <td>NO</td>\n",
       "      <td>NO</td>\n",
       "    </tr>\n",
       "    <tr>\n",
       "      <th>10</th>\n",
       "      <td>YES</td>\n",
       "      <td>NO</td>\n",
       "    </tr>\n",
       "    <tr>\n",
       "      <th>11</th>\n",
       "      <td>YES</td>\n",
       "      <td>NO</td>\n",
       "    </tr>\n",
       "    <tr>\n",
       "      <th>12</th>\n",
       "      <td>NO</td>\n",
       "      <td>YES</td>\n",
       "    </tr>\n",
       "    <tr>\n",
       "      <th>13</th>\n",
       "      <td>YES</td>\n",
       "      <td>YES</td>\n",
       "    </tr>\n",
       "    <tr>\n",
       "      <th>14</th>\n",
       "      <td>YES</td>\n",
       "      <td>YES</td>\n",
       "    </tr>\n",
       "    <tr>\n",
       "      <th>15</th>\n",
       "      <td>NO</td>\n",
       "      <td>YES</td>\n",
       "    </tr>\n",
       "    <tr>\n",
       "      <th>16</th>\n",
       "      <td>NO</td>\n",
       "      <td>YES</td>\n",
       "    </tr>\n",
       "    <tr>\n",
       "      <th>17</th>\n",
       "      <td>NO</td>\n",
       "      <td>NO</td>\n",
       "    </tr>\n",
       "    <tr>\n",
       "      <th>18</th>\n",
       "      <td>YES</td>\n",
       "      <td>YES</td>\n",
       "    </tr>\n",
       "    <tr>\n",
       "      <th>19</th>\n",
       "      <td>NO</td>\n",
       "      <td>NO</td>\n",
       "    </tr>\n",
       "    <tr>\n",
       "      <th>20</th>\n",
       "      <td>NO</td>\n",
       "      <td>NO</td>\n",
       "    </tr>\n",
       "    <tr>\n",
       "      <th>21</th>\n",
       "      <td>YES</td>\n",
       "      <td>YES</td>\n",
       "    </tr>\n",
       "    <tr>\n",
       "      <th>22</th>\n",
       "      <td>NO</td>\n",
       "      <td>NO</td>\n",
       "    </tr>\n",
       "    <tr>\n",
       "      <th>23</th>\n",
       "      <td>YES</td>\n",
       "      <td>NO</td>\n",
       "    </tr>\n",
       "    <tr>\n",
       "      <th>24</th>\n",
       "      <td>NO</td>\n",
       "      <td>NO</td>\n",
       "    </tr>\n",
       "    <tr>\n",
       "      <th>25</th>\n",
       "      <td>YES</td>\n",
       "      <td>YES</td>\n",
       "    </tr>\n",
       "    <tr>\n",
       "      <th>26</th>\n",
       "      <td>NO</td>\n",
       "      <td>YES</td>\n",
       "    </tr>\n",
       "    <tr>\n",
       "      <th>27</th>\n",
       "      <td>YES</td>\n",
       "      <td>YES</td>\n",
       "    </tr>\n",
       "    <tr>\n",
       "      <th>28</th>\n",
       "      <td>NO</td>\n",
       "      <td>NO</td>\n",
       "    </tr>\n",
       "    <tr>\n",
       "      <th>29</th>\n",
       "      <td>NO</td>\n",
       "      <td>NO</td>\n",
       "    </tr>\n",
       "  </tbody>\n",
       "</table>\n",
       "</div>"
      ],
      "text/plain": [
       "   True Predicted\n",
       "0   YES       YES\n",
       "1    NO       YES\n",
       "2    NO        NO\n",
       "3   YES        NO\n",
       "4    NO        NO\n",
       "5   YES        NO\n",
       "6    NO        NO\n",
       "7   YES        NO\n",
       "8    NO       YES\n",
       "9    NO        NO\n",
       "10  YES        NO\n",
       "11  YES        NO\n",
       "12   NO       YES\n",
       "13  YES       YES\n",
       "14  YES       YES\n",
       "15   NO       YES\n",
       "16   NO       YES\n",
       "17   NO        NO\n",
       "18  YES       YES\n",
       "19   NO        NO\n",
       "20   NO        NO\n",
       "21  YES       YES\n",
       "22   NO        NO\n",
       "23  YES        NO\n",
       "24   NO        NO\n",
       "25  YES       YES\n",
       "26   NO       YES\n",
       "27  YES       YES\n",
       "28   NO        NO\n",
       "29   NO        NO"
      ]
     },
     "execution_count": 46,
     "metadata": {},
     "output_type": "execute_result"
    }
   ],
   "source": [
    "y_test = y_test.reset_index(drop = 'True')\n",
    "ML_result = pd.concat([y_test, predSeries], axis=1)\n",
    "ML_result.columns = ['True','Predicted']\n",
    "ML_result.head(30)"
   ]
  },
  {
   "cell_type": "code",
   "execution_count": 47,
   "id": "b21d7b26-eb0b-4041-a395-27f9a328c500",
   "metadata": {},
   "outputs": [
    {
     "name": "stdout",
     "output_type": "stream",
     "text": [
      "Predicted    NO   YES\n",
      "Actual               \n",
      "NO         9692  3782\n",
      "YES        5663  5736\n"
     ]
    }
   ],
   "source": [
    "# Pandas confusion matrix: \n",
    "confusion_matrix = pd.crosstab(ML_result['True'], ML_result['Predicted'], rownames=['Actual'], colnames=['Predicted'])\n",
    "print (confusion_matrix)"
   ]
  },
  {
   "cell_type": "code",
   "execution_count": 48,
   "id": "2e3fc928-1484-4269-9b08-d9597fe385f6",
   "metadata": {},
   "outputs": [
    {
     "data": {
      "image/png": "[encoded data removed]",
      "text/plain": [
       "<Figure size 432x288 with 2 Axes>"
      ]
     },
     "metadata": {
      "needs_background": "light"
     },
     "output_type": "display_data"
    }
   ],
   "source": [
    "# Seaborn nice looking conf matrix: \n",
    "import seaborn as sn\n",
    "\n",
    "import matplotlib.pyplot as plt\n",
    "sn.heatmap(confusion_matrix, annot=True)\n",
    "plt.show()"
   ]
  },
  {
   "cell_type": "code",
   "execution_count": 8,
   "id": "2a0ad6c6-d2f9-4c90-abee-d99d06ccf046",
   "metadata": {},
   "outputs": [],
   "source": [
    "# import numpy as np\n",
    "# from sklearn.model_selection import train_test_split\n",
    "# from sklearn.linear_model import LinearRegression\n",
    "# from sklearn import linear_model\n",
    "# from sklearn.datasets import make_regression \n",
    "# from sklearn import svm\n",
    "# from sklearn.linear_model import SGDClassifier\n",
    "# from sklearn.preprocessing import StandardScaler\n",
    "# from sklearn.pipeline import make_pipeline\n",
    "# from sklearn import datasets\n",
    "# from sklearn.linear_model import LogisticRegression\n",
    "# from sklearn.model_selection import KFold\n",
    "# from sklearn.metrics import accuracy_score\n",
    "\n",
    "# df = df[df.race!='?']\n",
    "# df = df[df.gender!='Unknown/Invalid']\n",
    "# df.drop(columns = ['encounter_id','patient_nbr','weight', 'payer_code'], inplace=True)\n",
    "# df.drop(columns = ['medical_specialty', 'number_emergency'], inplace = True)\n",
    "\n",
    "\n",
    "# df.replace(to_replace=['Steady', 'Down', 'Up'], value='Yes', inplace=True)\n",
    "# df.insulin.value_counts()\n",
    "\n",
    "# df_breakout = pd.get_dummies(df, columns=[\"race\",\"gender\", \"age\", \"admission_type_id\", \"discharge_disposition_id\",\"admission_source_id\",\n",
    "#                                          \"diag_1\", \"diag_2\", \"diag_3\", \"max_glu_serum\", \"A1Cresult\", \"metformin\", \"repaglinide\",\n",
    "#                                           \"nateglinide\", \"chlorpropamide\", \"glimepiride\", \"acetohexamide\", \"glipizide\", \"glyburide\", \"tolbutamide\",\n",
    "#                                           \"pioglitazone\", \"rosiglitazone\", \"acarbose\", \"miglitol\", \"troglitazone\", \"tolazamide\", \"examide\", \"citoglipton\",\n",
    "#                                           \"insulin\", \"glyburide-metformin\", \"glipizide-metformin\", \"glimepiride-pioglitazone\", \"metformin-rosiglitazone\",\n",
    "#                                           \"metformin-pioglitazone\", \"change\", \"diabetesMed\"], drop_first=True)\n",
    "\n",
    "# X = df_breakout.drop(columns = ['readmitted'])\n",
    "# y = df['readmitted']\n",
    "# y.replace(to_replace=['>30', '<30'], value='YES', inplace=True)\n",
    "\n",
    "# X_train, X_test, y_train, y_test = train_test_split(X, y, test_size=0.25, random_state = 0)\n",
    "\n",
    "# clf = make_pipeline(StandardScaler(),SGDClassifier(loss = 'log', penalty = 'l1', max_iter = 1000, verbose = True, n_jobs = -1, n_iter_no_change = 5, alpha = 0.0001))\n",
    "\n",
    "# clf.fit(X_train, y_train)\n",
    "\n",
    "# y_pred=clf.predict(X_test)\n",
    "# # y_pred\n",
    "# clf.score(X_test, y_test)\n",
    "\n",
    "# predSeries = pd.Series(y_pred)\n",
    "\n",
    "# y_test = y_test.reset_index(drop = 'True')\n",
    "# ML_result = pd.concat([y_test, predSeries], axis=1)\n",
    "# ML_result.columns = ['True','Predicted']\n",
    "# ML_result.head(30)\n",
    "\n",
    "# confusion_matrix = pd.crosstab(ML_result['True'], ML_result['Predicted'], rownames=['Actual'], colnames=['Predicted'])\n",
    "# print (confusion_matrix)"
   ]
  },
  {
   "cell_type": "code",
   "execution_count": 153,
   "id": "fe5788e0-009b-44aa-934b-685b722df33b",
   "metadata": {},
   "outputs": [],
   "source": [
    "# df.info()"
   ]
  },
  {
   "cell_type": "code",
   "execution_count": 154,
   "id": "984d09e1-1f27-4e26-828d-f25bc5ba0e4c",
   "metadata": {},
   "outputs": [],
   "source": [
    "# df['glimepiride-pioglitazone'].value_counts()"
   ]
  },
  {
   "cell_type": "code",
   "execution_count": 155,
   "id": "5f45bd45-726c-4a4b-83a7-9f49a31c876a",
   "metadata": {},
   "outputs": [],
   "source": [
    "# df.drop(columns = ['examide','citoglipton','metformin-rosiglitazone','metformin-pioglitazone', 'miglitol', 'troglitazone', 'tolazamide', 'glipizide-metformin', 'chlorpropamide', 'glimepiride-pioglitazone'], inplace = True)"
   ]
  },
  {
   "cell_type": "code",
   "execution_count": 6,
   "id": "e3908b34-8dc0-4689-b654-95e936dd6669",
   "metadata": {},
   "outputs": [],
   "source": [
    "# df"
   ]
  },
  {
   "cell_type": "code",
   "execution_count": 157,
   "id": "802f9281-9189-4163-8c3b-e3b066b1e7ef",
   "metadata": {},
   "outputs": [],
   "source": [
    "# df_breakout = pd.get_dummies(df, columns=[\"race\",\"gender\", \"age\", \"diag_1\", \"diag_2\", \"diag_3\", \"max_glu_serum\", \"A1Cresult\", \"metformin\", \"repaglinide\",\n",
    "#                                           \"nateglinide\", \"glimepiride\", \"acetohexamide\", \"glipizide\", \"glyburide\", \"tolbutamide\",\n",
    "#                                           \"pioglitazone\", \"rosiglitazone\", \"acarbose\", \n",
    "#                                           \"insulin\", \"glyburide-metformin\",\n",
    "#                                           \"change\", \"diabetesMed\"], drop_first=True)\n"
   ]
  },
  {
   "cell_type": "code",
   "execution_count": 7,
   "id": "0e22ed84-1f8c-4d71-937e-46cf6582231f",
   "metadata": {},
   "outputs": [],
   "source": [
    "# df.columns"
   ]
  }
 ],
 "metadata": {
  "kernelspec": {
   "display_name": "Python 3",
   "language": "python",
   "name": "python3"
  },
  "language_info": {
   "codemirror_mode": {
    "name": "ipython",
    "version": 3
   },
   "file_extension": ".py",
   "mimetype": "text/x-python",
   "name": "python",
   "nbconvert_exporter": "python",
   "pygments_lexer": "ipython3",
   "version": "3.8.8"
  }
 },
 "nbformat": 4,
 "nbformat_minor": 5
}
