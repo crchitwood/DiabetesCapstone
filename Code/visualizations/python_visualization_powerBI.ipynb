{
 "cells": [
  {
   "cell_type": "markdown",
   "id": "0a1db023-bedf-4f7f-834c-296f9c51bef0",
   "metadata": {},
   "source": [
    "## SQL Query for Power BI"
   ]
  },
  {
   "cell_type": "markdown",
   "id": "13833ece-8dc2-4b17-97cb-f74472382354",
   "metadata": {},
   "source": [
    "We used the following SQL query to obtain a merged dataset in PowerBI that we could use for python visualizations."
   ]
  },
  {
   "cell_type": "raw",
   "id": "fc4458b7-9715-46b3-acb3-049288d3c841",
   "metadata": {},
   "source": [
    "SELECT  * \n",
    "FROM dbo.diabetestemp \n",
    "INNER JOIN dbo.race_uninsured_2008\n",
    "ON dbo.diabetestemp.race = dbo.race_uninsured_2008.Race"
   ]
  },
  {
   "cell_type": "markdown",
   "id": "cbfba9e1-1b14-4649-abbb-82c4adfd53ae",
   "metadata": {},
   "source": [
    "## Python Visualizations with Census Data"
   ]
  },
  {
   "cell_type": "markdown",
   "id": "9657ca74-edce-4cc3-becb-cccfcb617714",
   "metadata": {},
   "source": [
    "Using the Python packages Pandas, Matplotlib, and Seaborn to construct visualizations that would be difficult to achieve in PowerBI. We make use of calculated columns, which are possible in PowerBI, but we felt were simpler to achieve in Python. We make two visualizations, one to explore the differences in demographics of the diabetes EHR dataset and demographics of the census dataset. Next, using the provided census dataset, we explore if the uninsured rate of different groups may explain the differences in demographics between the EHR dataset and census dataset."
   ]
  },
  {
   "cell_type": "code",
   "execution_count": 1,
   "id": "bc176739-90d5-48ea-9d11-8086f9180774",
   "metadata": {},
   "outputs": [],
   "source": [
    "import pandas as pd\n",
    "df = pd.read_csv('..\\\\data\\\\diabetic_data.csv')                    #dbo.diabetestemp\n",
    "df2 = pd.read_csv('..\\\\data\\\\2008_race_uninsured_census.csv')      #dbo.race_uninsured_2008"
   ]
  },
  {
   "cell_type": "code",
   "execution_count": 2,
   "id": "3848903b-d6bf-40f8-9263-611aa4a50b11",
   "metadata": {},
   "outputs": [],
   "source": [
    "#df.head(3)   #dbo.diabetestemp"
   ]
  },
  {
   "cell_type": "code",
   "execution_count": 3,
   "id": "ae75297e-b67e-4484-8190-d3df0b3e4297",
   "metadata": {},
   "outputs": [],
   "source": [
    "#df2.head(3)    #dbo.race_uninsured_2008"
   ]
  },
  {
   "cell_type": "code",
   "execution_count": 4,
   "id": "01c6b435-c26c-47bf-ba48-207d460ac718",
   "metadata": {},
   "outputs": [],
   "source": [
    "df3 = pd.merge(df, df2, how = 'inner', left_on = 'race', right_on = 'Race')    #inner join. df3 outputs results from SQL query"
   ]
  },
  {
   "cell_type": "markdown",
   "id": "6334e691-cefa-4642-a752-04a5d05e9fcf",
   "metadata": {},
   "source": [
    "#### Determine Percent Breakdown of Diabetes EHR Dataset by Race"
   ]
  },
  {
   "cell_type": "code",
   "execution_count": 5,
   "id": "08946eeb-13ac-45c1-9453-964e8f9a6372",
   "metadata": {},
   "outputs": [],
   "source": [
    "temp = df3.groupby('race')['encounter_id'].count()"
   ]
  },
  {
   "cell_type": "code",
   "execution_count": 6,
   "id": "2806cd52-0e2e-4285-9958-742aecfdf317",
   "metadata": {},
   "outputs": [
    {
     "data": {
      "text/html": [
       "<div>\n",
       "<style scoped>\n",
       "    .dataframe tbody tr th:only-of-type {\n",
       "        vertical-align: middle;\n",
       "    }\n",
       "\n",
       "    .dataframe tbody tr th {\n",
       "        vertical-align: top;\n",
       "    }\n",
       "\n",
       "    .dataframe thead th {\n",
       "        text-align: right;\n",
       "    }\n",
       "</style>\n",
       "<table border=\"1\" class=\"dataframe\">\n",
       "  <thead>\n",
       "    <tr style=\"text-align: right;\">\n",
       "      <th></th>\n",
       "      <th>Race</th>\n",
       "      <th>count</th>\n",
       "      <th>Type</th>\n",
       "      <th>Percent</th>\n",
       "    </tr>\n",
       "  </thead>\n",
       "  <tbody>\n",
       "    <tr>\n",
       "      <th>0</th>\n",
       "      <td>AfricanAmerican</td>\n",
       "      <td>19210</td>\n",
       "      <td>Diabetes EHR</td>\n",
       "      <td>19.604641</td>\n",
       "    </tr>\n",
       "    <tr>\n",
       "      <th>1</th>\n",
       "      <td>Asian</td>\n",
       "      <td>641</td>\n",
       "      <td>Diabetes EHR</td>\n",
       "      <td>0.654168</td>\n",
       "    </tr>\n",
       "    <tr>\n",
       "      <th>2</th>\n",
       "      <td>Caucasian</td>\n",
       "      <td>76099</td>\n",
       "      <td>Diabetes EHR</td>\n",
       "      <td>77.662343</td>\n",
       "    </tr>\n",
       "    <tr>\n",
       "      <th>3</th>\n",
       "      <td>Hispanic</td>\n",
       "      <td>2037</td>\n",
       "      <td>Diabetes EHR</td>\n",
       "      <td>2.078847</td>\n",
       "    </tr>\n",
       "  </tbody>\n",
       "</table>\n",
       "</div>"
      ],
      "text/plain": [
       "              Race  count          Type    Percent\n",
       "0  AfricanAmerican  19210  Diabetes EHR  19.604641\n",
       "1            Asian    641  Diabetes EHR   0.654168\n",
       "2        Caucasian  76099  Diabetes EHR  77.662343\n",
       "3         Hispanic   2037  Diabetes EHR   2.078847"
      ]
     },
     "execution_count": 6,
     "metadata": {},
     "output_type": "execute_result"
    }
   ],
   "source": [
    "df4 = temp.to_frame(name='count')\n",
    "df4['Type'] = 'Diabetes EHR'\n",
    "df4['Percent'] = df4['count']/len(df3)*100\n",
    "df4.reset_index(inplace=True)\n",
    "df4.rename(columns={'race':'Race'}, inplace=True)\n",
    "df4"
   ]
  },
  {
   "cell_type": "markdown",
   "id": "5bae9209-e81b-412b-a288-2ac61f92c41d",
   "metadata": {},
   "source": [
    "#### Determine Percent Breakdown of Census US Population by Race"
   ]
  },
  {
   "cell_type": "code",
   "execution_count": 7,
   "id": "d27e1e73-69fa-4034-90a7-1c63f7bed960",
   "metadata": {},
   "outputs": [
    {
     "data": {
      "text/html": [
       "<div>\n",
       "<style scoped>\n",
       "    .dataframe tbody tr th:only-of-type {\n",
       "        vertical-align: middle;\n",
       "    }\n",
       "\n",
       "    .dataframe tbody tr th {\n",
       "        vertical-align: top;\n",
       "    }\n",
       "\n",
       "    .dataframe thead th {\n",
       "        text-align: right;\n",
       "    }\n",
       "</style>\n",
       "<table border=\"1\" class=\"dataframe\">\n",
       "  <thead>\n",
       "    <tr style=\"text-align: right;\">\n",
       "      <th></th>\n",
       "      <th>Race</th>\n",
       "      <th>count</th>\n",
       "      <th>Type</th>\n",
       "      <th>Percent</th>\n",
       "    </tr>\n",
       "  </thead>\n",
       "  <tbody>\n",
       "    <tr>\n",
       "      <th>0</th>\n",
       "      <td>AfricanAmerican</td>\n",
       "      <td>36238</td>\n",
       "      <td>Census</td>\n",
       "      <td>11.310767</td>\n",
       "    </tr>\n",
       "    <tr>\n",
       "      <th>1</th>\n",
       "      <td>Asian</td>\n",
       "      <td>13321</td>\n",
       "      <td>Census</td>\n",
       "      <td>4.157810</td>\n",
       "    </tr>\n",
       "    <tr>\n",
       "      <th>2</th>\n",
       "      <td>Caucasian</td>\n",
       "      <td>224628</td>\n",
       "      <td>Census</td>\n",
       "      <td>70.111897</td>\n",
       "    </tr>\n",
       "    <tr>\n",
       "      <th>3</th>\n",
       "      <td>Hispanic</td>\n",
       "      <td>46198</td>\n",
       "      <td>Census</td>\n",
       "      <td>14.419527</td>\n",
       "    </tr>\n",
       "  </tbody>\n",
       "</table>\n",
       "</div>"
      ],
      "text/plain": [
       "              Race   count    Type    Percent\n",
       "0  AfricanAmerican   36238  Census  11.310767\n",
       "1            Asian   13321  Census   4.157810\n",
       "2        Caucasian  224628  Census  70.111897\n",
       "3         Hispanic   46198  Census  14.419527"
      ]
     },
     "execution_count": 7,
     "metadata": {},
     "output_type": "execute_result"
    }
   ],
   "source": [
    "df5 = df3[['Race', 'Total']].groupby('Race')['Total'].mean().to_frame(name = 'count')     #count is in thousands\n",
    "df5['Type'] = 'Census'\n",
    "df5['Percent'] = df5['count']/df5['count'].sum()*100           #Divide count by TOtal population\n",
    "df5.reset_index(inplace=True)\n",
    "df5"
   ]
  },
  {
   "cell_type": "code",
   "execution_count": 8,
   "id": "d88cbee2-54fc-43b2-83e5-52841911007e",
   "metadata": {},
   "outputs": [
    {
     "data": {
      "text/html": [
       "<div>\n",
       "<style scoped>\n",
       "    .dataframe tbody tr th:only-of-type {\n",
       "        vertical-align: middle;\n",
       "    }\n",
       "\n",
       "    .dataframe tbody tr th {\n",
       "        vertical-align: top;\n",
       "    }\n",
       "\n",
       "    .dataframe thead th {\n",
       "        text-align: right;\n",
       "    }\n",
       "</style>\n",
       "<table border=\"1\" class=\"dataframe\">\n",
       "  <thead>\n",
       "    <tr style=\"text-align: right;\">\n",
       "      <th></th>\n",
       "      <th>Race</th>\n",
       "      <th>count</th>\n",
       "      <th>Type</th>\n",
       "      <th>Percent</th>\n",
       "    </tr>\n",
       "  </thead>\n",
       "  <tbody>\n",
       "    <tr>\n",
       "      <th>0</th>\n",
       "      <td>AfricanAmerican</td>\n",
       "      <td>19210</td>\n",
       "      <td>Diabetes EHR</td>\n",
       "      <td>19.604641</td>\n",
       "    </tr>\n",
       "    <tr>\n",
       "      <th>1</th>\n",
       "      <td>Asian</td>\n",
       "      <td>641</td>\n",
       "      <td>Diabetes EHR</td>\n",
       "      <td>0.654168</td>\n",
       "    </tr>\n",
       "    <tr>\n",
       "      <th>2</th>\n",
       "      <td>Caucasian</td>\n",
       "      <td>76099</td>\n",
       "      <td>Diabetes EHR</td>\n",
       "      <td>77.662343</td>\n",
       "    </tr>\n",
       "    <tr>\n",
       "      <th>3</th>\n",
       "      <td>Hispanic</td>\n",
       "      <td>2037</td>\n",
       "      <td>Diabetes EHR</td>\n",
       "      <td>2.078847</td>\n",
       "    </tr>\n",
       "    <tr>\n",
       "      <th>0</th>\n",
       "      <td>AfricanAmerican</td>\n",
       "      <td>36238</td>\n",
       "      <td>Census</td>\n",
       "      <td>11.310767</td>\n",
       "    </tr>\n",
       "    <tr>\n",
       "      <th>1</th>\n",
       "      <td>Asian</td>\n",
       "      <td>13321</td>\n",
       "      <td>Census</td>\n",
       "      <td>4.157810</td>\n",
       "    </tr>\n",
       "    <tr>\n",
       "      <th>2</th>\n",
       "      <td>Caucasian</td>\n",
       "      <td>224628</td>\n",
       "      <td>Census</td>\n",
       "      <td>70.111897</td>\n",
       "    </tr>\n",
       "    <tr>\n",
       "      <th>3</th>\n",
       "      <td>Hispanic</td>\n",
       "      <td>46198</td>\n",
       "      <td>Census</td>\n",
       "      <td>14.419527</td>\n",
       "    </tr>\n",
       "  </tbody>\n",
       "</table>\n",
       "</div>"
      ],
      "text/plain": [
       "              Race   count          Type    Percent\n",
       "0  AfricanAmerican   19210  Diabetes EHR  19.604641\n",
       "1            Asian     641  Diabetes EHR   0.654168\n",
       "2        Caucasian   76099  Diabetes EHR  77.662343\n",
       "3         Hispanic    2037  Diabetes EHR   2.078847\n",
       "0  AfricanAmerican   36238        Census  11.310767\n",
       "1            Asian   13321        Census   4.157810\n",
       "2        Caucasian  224628        Census  70.111897\n",
       "3         Hispanic   46198        Census  14.419527"
      ]
     },
     "execution_count": 8,
     "metadata": {},
     "output_type": "execute_result"
    }
   ],
   "source": [
    "final_df = pd.concat([df4, df5])      #comparing Demographics of hospital data vs census data\n",
    "final_df"
   ]
  },
  {
   "cell_type": "markdown",
   "id": "97b4e4cc-d83b-437a-a0d4-d36da168f4a8",
   "metadata": {},
   "source": [
    "#### Visualize Differences in Hospital Demographics vs Census Demographics"
   ]
  },
  {
   "cell_type": "code",
   "execution_count": 9,
   "id": "6b6acd4b-34ed-470e-98a9-a21b04db32b0",
   "metadata": {},
   "outputs": [
    {
     "data": {
      "text/plain": [
       "<seaborn.axisgrid.FacetGrid at 0x1344b2e6fa0>"
      ]
     },
     "execution_count": 9,
     "metadata": {},
     "output_type": "execute_result"
    },
    {
     "data": {
      "image/png": "[encoded data removed]",
      "text/plain": [
       "<Figure size 541.35x432 with 1 Axes>"
      ]
     },
     "metadata": {},
     "output_type": "display_data"
    }
   ],
   "source": [
    "import seaborn as sns\n",
    "sns.set_theme(style=\"whitegrid\")\n",
    "\n",
    "# Draw a nested barplot by species and sex\n",
    "g = sns.catplot(\n",
    "    data=final_df, kind=\"bar\",\n",
    "    x=\"Race\", y=\"Percent\", hue=\"Type\",\n",
    "    ci=\"sd\", palette=\"dark\", alpha=.6, height=6\n",
    ")\n",
    "g.despine(left=True)\n",
    "g.set_axis_labels(\"\", \"Percent\")\n",
    "g.legend.set_title(\"Dataset\")\n",
    "g.set(title='Demographics of EHR vs Census Datasets')"
   ]
  },
  {
   "cell_type": "markdown",
   "id": "af5ab756-4d82-4dca-89ab-b638fd6a67c7",
   "metadata": {},
   "source": [
    "The racial breakdown of hospitalization records of diabetes patients from 1998-2008 were plotted against the approximate racial breakdown of the US in 2008. It is observed that African American and Caucasian groups have higher representation in the hospitalization dataset than one might expect based on census data. Likewise, Asian and Hispanic groups have lower representation in the hospitalization dataset than what the census would suggest. This finding shows that hospitization rates may be influenced by external factors in addition to population size."
   ]
  },
  {
   "cell_type": "markdown",
   "id": "066e27c6-2042-479f-80c1-c1d503a37d6f",
   "metadata": {},
   "source": [
    "#### Determine Normalized Uninsured Rate (Uninsured Rate by Race / Mean Overall Uninsured Rate)"
   ]
  },
  {
   "cell_type": "code",
   "execution_count": 10,
   "id": "aa79dcea-b920-48bb-a224-2d981cfb5005",
   "metadata": {},
   "outputs": [
    {
     "data": {
      "text/html": [
       "<div>\n",
       "<style scoped>\n",
       "    .dataframe tbody tr th:only-of-type {\n",
       "        vertical-align: middle;\n",
       "    }\n",
       "\n",
       "    .dataframe tbody tr th {\n",
       "        vertical-align: top;\n",
       "    }\n",
       "\n",
       "    .dataframe thead th {\n",
       "        text-align: right;\n",
       "    }\n",
       "</style>\n",
       "<table border=\"1\" class=\"dataframe\">\n",
       "  <thead>\n",
       "    <tr style=\"text-align: right;\">\n",
       "      <th></th>\n",
       "      <th>Race</th>\n",
       "      <th>Type</th>\n",
       "      <th>Ratio</th>\n",
       "    </tr>\n",
       "  </thead>\n",
       "  <tbody>\n",
       "    <tr>\n",
       "      <th>0</th>\n",
       "      <td>AfricanAmerican</td>\n",
       "      <td>Normalized Uninsured Rate</td>\n",
       "      <td>1.171233</td>\n",
       "    </tr>\n",
       "    <tr>\n",
       "      <th>1</th>\n",
       "      <td>Asian</td>\n",
       "      <td>Normalized Uninsured Rate</td>\n",
       "      <td>0.972603</td>\n",
       "    </tr>\n",
       "    <tr>\n",
       "      <th>2</th>\n",
       "      <td>Caucasian</td>\n",
       "      <td>Normalized Uninsured Rate</td>\n",
       "      <td>0.876712</td>\n",
       "    </tr>\n",
       "    <tr>\n",
       "      <th>3</th>\n",
       "      <td>Hispanic</td>\n",
       "      <td>Normalized Uninsured Rate</td>\n",
       "      <td>2.109589</td>\n",
       "    </tr>\n",
       "  </tbody>\n",
       "</table>\n",
       "</div>"
      ],
      "text/plain": [
       "              Race                       Type     Ratio\n",
       "0  AfricanAmerican  Normalized Uninsured Rate  1.171233\n",
       "1            Asian  Normalized Uninsured Rate  0.972603\n",
       "2        Caucasian  Normalized Uninsured Rate  0.876712\n",
       "3         Hispanic  Normalized Uninsured Rate  2.109589"
      ]
     },
     "execution_count": 10,
     "metadata": {},
     "output_type": "execute_result"
    }
   ],
   "source": [
    "df6 = df3[['Race', 'Percent']].groupby('Race')['Percent'].mean().to_frame(name = 'Percent Uninsured')\n",
    "df6['Type'] = 'Normalized Uninsured Rate'\n",
    "df6['Ratio'] = df6['Percent Uninsured'] / 14.6    #Mean Overall Uninsured Rate = 14.6%\n",
    "df6.reset_index(inplace=True)\n",
    "df6 = df6[['Race','Type','Ratio']]\n",
    "df6"
   ]
  },
  {
   "cell_type": "markdown",
   "id": "c6203bfe-c930-4cee-8b17-f29a1f2fd7f0",
   "metadata": {},
   "source": [
    "#### Determine Normalized Diabetes Admittance Rate (Admittance Rate / Population %)"
   ]
  },
  {
   "cell_type": "code",
   "execution_count": 11,
   "id": "bd3680db-13f4-4696-b4a9-8786b4846767",
   "metadata": {},
   "outputs": [
    {
     "data": {
      "text/html": [
       "<div>\n",
       "<style scoped>\n",
       "    .dataframe tbody tr th:only-of-type {\n",
       "        vertical-align: middle;\n",
       "    }\n",
       "\n",
       "    .dataframe tbody tr th {\n",
       "        vertical-align: top;\n",
       "    }\n",
       "\n",
       "    .dataframe thead th {\n",
       "        text-align: right;\n",
       "    }\n",
       "</style>\n",
       "<table border=\"1\" class=\"dataframe\">\n",
       "  <thead>\n",
       "    <tr style=\"text-align: right;\">\n",
       "      <th></th>\n",
       "      <th>Race</th>\n",
       "      <th>Type</th>\n",
       "      <th>Ratio</th>\n",
       "    </tr>\n",
       "  </thead>\n",
       "  <tbody>\n",
       "    <tr>\n",
       "      <th>0</th>\n",
       "      <td>AfricanAmerican</td>\n",
       "      <td>Normalized Diabetes Admittance Rate</td>\n",
       "      <td>1.733273</td>\n",
       "    </tr>\n",
       "    <tr>\n",
       "      <th>1</th>\n",
       "      <td>Asian</td>\n",
       "      <td>Normalized Diabetes Admittance Rate</td>\n",
       "      <td>0.157335</td>\n",
       "    </tr>\n",
       "    <tr>\n",
       "      <th>2</th>\n",
       "      <td>Caucasian</td>\n",
       "      <td>Normalized Diabetes Admittance Rate</td>\n",
       "      <td>1.107691</td>\n",
       "    </tr>\n",
       "    <tr>\n",
       "      <th>3</th>\n",
       "      <td>Hispanic</td>\n",
       "      <td>Normalized Diabetes Admittance Rate</td>\n",
       "      <td>0.144169</td>\n",
       "    </tr>\n",
       "  </tbody>\n",
       "</table>\n",
       "</div>"
      ],
      "text/plain": [
       "              Race                                 Type     Ratio\n",
       "0  AfricanAmerican  Normalized Diabetes Admittance Rate  1.733273\n",
       "1            Asian  Normalized Diabetes Admittance Rate  0.157335\n",
       "2        Caucasian  Normalized Diabetes Admittance Rate  1.107691\n",
       "3         Hispanic  Normalized Diabetes Admittance Rate  0.144169"
      ]
     },
     "execution_count": 11,
     "metadata": {},
     "output_type": "execute_result"
    }
   ],
   "source": [
    "final_df2 = df4.merge(df5, how = 'inner', on = 'Race')\n",
    "final_df2['Ratio'] = final_df2['Percent_x']/final_df2['Percent_y']\n",
    "final_df2['Type'] = 'Normalized Diabetes Admittance Rate'\n",
    "final_df2 = final_df2[['Race','Type','Ratio']]\n",
    "final_df2"
   ]
  },
  {
   "cell_type": "code",
   "execution_count": 12,
   "id": "32989805-1818-4183-bec0-15db752b7e4d",
   "metadata": {},
   "outputs": [],
   "source": [
    "concat_df = pd.concat([df6, final_df2])"
   ]
  },
  {
   "cell_type": "markdown",
   "id": "2078512c-704d-42a6-b968-29d9b3f6c6c9",
   "metadata": {},
   "source": [
    "#### Visualize Possible Relationship of Uninsured Rate vs Hospital Admittance Rate"
   ]
  },
  {
   "cell_type": "code",
   "execution_count": 13,
   "id": "d6f56748-8d55-4617-a734-43e527fe0b48",
   "metadata": {},
   "outputs": [
    {
     "data": {
      "text/plain": [
       "<seaborn.axisgrid.FacetGrid at 0x1344bb3f430>"
      ]
     },
     "execution_count": 13,
     "metadata": {},
     "output_type": "execute_result"
    },
    {
     "data": {
      "image/png": "[encoded data removed]",
      "text/plain": [
       "<Figure size 658.35x432 with 1 Axes>"
      ]
     },
     "metadata": {},
     "output_type": "display_data"
    }
   ],
   "source": [
    "import matplotlib.pyplot as plt\n",
    "\n",
    "# Draw a nested barplot by species and sex\n",
    "g = sns.catplot(\n",
    "    data=concat_df, kind=\"bar\",\n",
    "    x=\"Race\", y=\"Ratio\", hue='Type',\n",
    "    ci=\"sd\", palette=\"dark\", alpha=.6, height=6\n",
    ")\n",
    "\n",
    "g.map(plt.axhline, y=1, ls='--', c='red')"
   ]
  },
  {
   "cell_type": "markdown",
   "id": "d89ea88b-92a0-4d6e-823d-a401d7f8a71b",
   "metadata": {},
   "source": [
    "To explore possible reasons for why different racial groups may be hospitalized for diabetes at different rates, the provided census dataset examining the uninsured rate of different racial groups was utilized. We hypothesize that hospitilization rates for a racial group may have an inverse relationship with uninsured rate. A racial group that has a high uninsured rate may avoid hospitlization due to high financial burden. To test this hypothesis, we sought to plot hospitilization rates vs uninsured rate for racial groups in our datasets. The normalized ratio of hospitalized diabetes patients (%) against US population (%) was plotted for each racial group. A ratio over \"1\" indicates when a racial group is overly represented in the diabetes EHR dataset based on population size, while a ratio below \"1\" indicates the inverse. Next the uninsured rate was normalized against the uninsured rate for the US as a whole, which was \"14.6%\" in 2008. In the resulting plots, we see that our hypothesis appears to be debunked. Hispanic and Caucasian groups fit our hypothesis of inverse relationship between uninsured rate and hospital admittance, but African American and Asian groups do not. \n",
    "\n",
    "For additional exploration, it may be prudent to explore other explanations. The CDC 2020 National Diabetes Statistics Report finds that people of hispanic origin have the second highest rate of diagnoses for diabetes at 12.5%, while non-Hispanic white individuals have the lowest rate of diagnoses for diabetes at 7.5%, showing that the discrepency in hospitilizations is not a result of disproporitionate prevelence of diabetes. An alternative explanation may be that Hispanic and Asian groups may have a larger proportion of recent immigrants that may not be comfortable navingating the US Hospital system due to language or cultural barriers. If this were the case, the low rate of hospitalization for Asians and Hispanics may indicate a failure of healthcare access that may be remedied with services such as interpreter access and printing hospital correspondence in additional languages. "
   ]
  },
  {
   "cell_type": "markdown",
   "id": "4ab49161-e657-47c8-96a7-a7386e1b488c",
   "metadata": {},
   "source": [
    "#### Power BI Visualization Python Script 1: Demographics of Diabetes EHR vs Census"
   ]
  },
  {
   "cell_type": "markdown",
   "id": "f331bff5-5c5f-46d3-b477-012c2ae24c52",
   "metadata": {},
   "source": [
    "The previous python scripts were adapted for PowerBI using the following blocks of code:"
   ]
  },
  {
   "cell_type": "raw",
   "id": "04fe2d84-abc0-4533-8b0a-b07d601f301a",
   "metadata": {},
   "source": [
    "# The following code to create a dataframe and remove duplicated rows is always executed and acts as a preamble for your script: \n",
    "\n",
    "# dataset = pandas.DataFrame(race, Total, Uninsured, encounter_id, Percent)\n",
    "# dataset = dataset.drop_duplicates()\n",
    "\n",
    "# Paste or type your script code here:\n",
    "\n",
    "df_diab = dataset.groupby('race')['encounter_id'].count().to_frame(name='count')\n",
    "df_diab['Type'] = 'Diabetes EHR'\n",
    "df_diab['Percent'] = df_diab['count']/len(dataset)*100\n",
    "df_diab.reset_index(inplace=True)\n",
    "\n",
    "df_census = dataset[['race', 'Total']].groupby('Race')['Total'].mean().to_frame(name = 'count')\n",
    "df_census['Type'] = 'Census'\n",
    "df_census['Percent'] = df_census['count']/df_census['count'].sum()*100\n",
    "df_census.reset_index(inplace=True)\n",
    "\n",
    "final_df = pd.concat([df_diab, df_census])\n",
    "\n",
    "import seaborn as sns\n",
    "sns.set_theme(style=\"whitegrid\")\n",
    "\n",
    "# Draw a nested barplot by species and sex\n",
    "g = sns.catplot(\n",
    "    data=final_df, kind=\"bar\",\n",
    "    x=\"Race\", y=\"Percent\", hue=\"Type\",\n",
    "    ci=\"sd\", palette=\"dark\", alpha=.6, height=6\n",
    ")\n",
    "g.despine(left=True)\n",
    "g.set_axis_labels(\"\", \"Percent\")\n",
    "g.legend.set_title(\"Dataset\")\n",
    "g.set(title='Demographics of EHR vs Census Datasets')"
   ]
  },
  {
   "cell_type": "markdown",
   "id": "73be2d53-1765-4d04-8549-a3ce94d1dc81",
   "metadata": {},
   "source": [
    "#### Power BI Visualization Python Script 2: Normalized Hospital Admittance Demographics vs Uninsured Rate"
   ]
  },
  {
   "cell_type": "raw",
   "id": "a5b5a556-1bdb-4435-80d9-3e09d8bebb21",
   "metadata": {},
   "source": [
    "# The following code to create a dataframe and remove duplicated rows is always executed and acts as a preamble for your script: \n",
    "\n",
    "# dataset = pandas.DataFrame(race, Total, Uninsured, Percent, encounter_id)\n",
    "# dataset = dataset.drop_duplicates()\n",
    "\n",
    "# Paste or type your script code here:\n",
    "\n",
    "# The following code to create a dataframe and remove duplicated rows is always executed and acts as a preamble for your script: \n",
    "\n",
    "# dataset = pandas.DataFrame(race, Total, Uninsured, encounter_id, Percent)\n",
    "# dataset = dataset.drop_duplicates()\n",
    "\n",
    "# Paste or type your script code here:\n",
    "\n",
    "import seaborn as sns\n",
    "import matplotlib.pyplot as plt\n",
    "\n",
    "df6 = dataset[['race', 'Percent']].groupby('race')['Percent'].mean().to_frame(name = 'Percent Uninsured')\n",
    "df6['Type'] = 'Normalized Uninsured Rate'\n",
    "df6['Ratio'] = df6['Percent Uninsured'] / 14.6 \n",
    "df6.reset_index(inplace=True)\n",
    "df6 = df6[['race','Type','Ratio']]\n",
    "\n",
    "df_diab = dataset.groupby('race')['encounter_id'].count().to_frame(name='count')\n",
    "df_diab['Type'] = 'Diabetes EHR'\n",
    "df_diab['Percent'] = df_diab['count']/len(dataset)*100\n",
    "df_diab.reset_index(inplace=True)\n",
    "\n",
    "df_census = dataset[['race', 'Total']].groupby('race')['Total'].mean().to_frame(name = 'count')\n",
    "df_census['Type'] = 'Census'\n",
    "df_census['Percent'] = df_census['count']/df_census['count'].sum()*100\n",
    "df_census.reset_index(inplace=True)\n",
    "\n",
    "final_df2 = df_diab.merge(df_census, how = 'inner', on = 'race')\n",
    "final_df2['Ratio'] = final_df2['Percent_x']/final_df2['Percent_y']\n",
    "final_df2['Type'] = 'Normalized Diabetes Admittance Rate'\n",
    "final_df2 = final_df2[['race','Type','Ratio']]\n",
    "\n",
    "concat_df = pandas.concat([df6, final_df2])\n",
    "\n",
    "# Draw a nested barplot by species and sex\n",
    "g = sns.catplot(\n",
    "    data=concat_df, kind=\"bar\",\n",
    "    x=\"race\", y=\"Ratio\", hue='Type',\n",
    "    ci=\"sd\", palette=\"dark\", alpha=.6, height=6\n",
    ")\n",
    "\n",
    "g.map(plt.axhline, y=1, ls='--', c='red')\n",
    "\n",
    "plt.show()"
   ]
  }
 ],
 "metadata": {
  "kernelspec": {
   "display_name": "Python 3",
   "language": "python",
   "name": "python3"
  },
  "language_info": {
   "codemirror_mode": {
    "name": "ipython",
    "version": 3
   },
   "file_extension": ".py",
   "mimetype": "text/x-python",
   "name": "python",
   "nbconvert_exporter": "python",
   "pygments_lexer": "ipython3",
   "version": "3.8.8"
  }
 },
 "nbformat": 4,
 "nbformat_minor": 5
}
