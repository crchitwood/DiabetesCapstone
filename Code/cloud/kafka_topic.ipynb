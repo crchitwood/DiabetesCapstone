{
 "cells": [
  {
   "cell_type": "markdown",
   "metadata": {},
   "source": [
    "# Create Kafka Topic"
   ]
  },
  {
   "cell_type": "markdown",
   "metadata": {},
   "source": [
    "**Error Functions**"
   ]
  },
  {
   "cell_type": "code",
   "execution_count": null,
   "metadata": {
    "application/vnd.databricks.v1+cell": {
     "inputWidgets": {},
     "nuid": "91f3d302-a7bc-4115-ad3a-976c12c21bba",
     "showTitle": false,
     "title": ""
    }
   },
   "outputs": [
    {
     "data": {
      "text/html": [
       "<style scoped>\n",
       "  .ansiout {\n",
       "    display: block;\n",
       "    unicode-bidi: embed;\n",
       "    white-space: pre-wrap;\n",
       "    word-wrap: break-word;\n",
       "    word-break: break-all;\n",
       "    font-family: \"Source Code Pro\", \"Menlo\", monospace;;\n",
       "    font-size: 13px;\n",
       "    color: #555;\n",
       "    margin-left: 4px;\n",
       "    line-height: 19px;\n",
       "  }\n",
       "</style>\n",
       "<div class=\"ansiout\"></div>"
      ]
     },
     "metadata": {
      "application/vnd.databricks.v1+output": {
       "addedWidgets": {},
       "arguments": {},
       "data": "<div class=\"ansiout\"></div>",
       "datasetInfos": [],
       "metadata": {},
       "removedWidgets": [],
       "type": "html"
      }
     },
     "output_type": "display_data"
    }
   ],
   "source": [
    "def error_cb(err):\n",
    "    \"\"\" The error callback is used for generic client errors. These\n",
    "        errors are generally to be considered informational as the client will\n",
    "        automatically try to recover from all errors, and no extra action\n",
    "        is typically required by the application.\n",
    "        For this example however, we terminate the application if the client\n",
    "        is unable to connect to any broker (_ALL_BROKERS_DOWN) and on\n",
    "        authentication errors (_AUTHENTICATION). \"\"\"\n",
    "\n",
    "    print(\"Client error: {}\".format(err))\n",
    "    if err.code() == KafkaError._ALL_BROKERS_DOWN or \\\n",
    "       err.code() == KafkaError._AUTHENTICATION:\n",
    "        # Any exception raised from this callback will be re-raised from the\n",
    "        # triggering flush() or poll() call.\n",
    "        raise KafkaException(err)\n",
    "\n",
    "\n",
    "def acked(err, msg):\n",
    "    \"\"\" \n",
    "        Error callback is used for generic issues for producer errors. \n",
    "        \n",
    "        Parameters:\n",
    "            err (err): Error flag.\n",
    "            msg (str): Error message that was part of the callback.\n",
    "    \"\"\"\n",
    "    if err is not None:\n",
    "        print(\"Failed to deliver message: %s: %s\" % (str(msg), str(err)))\n",
    "    else:\n",
    "        print(\"Message produced: %s\" % (str(msg)))"
   ]
  },
  {
   "cell_type": "markdown",
   "metadata": {},
   "source": [
    "**Set Admin Parameters**"
   ]
  },
  {
   "cell_type": "code",
   "execution_count": null,
   "metadata": {
    "application/vnd.databricks.v1+cell": {
     "inputWidgets": {},
     "nuid": "4d15eaeb-1e71-49d6-a3a1-77eebcee6c73",
     "showTitle": false,
     "title": ""
    }
   },
   "outputs": [
    {
     "data": {
      "text/html": [
       "<style scoped>\n",
       "  .ansiout {\n",
       "    display: block;\n",
       "    unicode-bidi: embed;\n",
       "    white-space: pre-wrap;\n",
       "    word-wrap: break-word;\n",
       "    word-break: break-all;\n",
       "    font-family: \"Source Code Pro\", \"Menlo\", monospace;;\n",
       "    font-size: 13px;\n",
       "    color: #555;\n",
       "    margin-left: 4px;\n",
       "    line-height: 19px;\n",
       "  }\n",
       "</style>\n",
       "<div class=\"ansiout\"></div>"
      ]
     },
     "metadata": {
      "application/vnd.databricks.v1+output": {
       "addedWidgets": {},
       "arguments": {},
       "data": "<div class=\"ansiout\"></div>",
       "datasetInfos": [],
       "metadata": {},
       "removedWidgets": [],
       "type": "html"
      }
     },
     "output_type": "display_data"
    }
   ],
   "source": [
    "from confluent_kafka import Consumer\n",
    "from time import sleep\n",
    "import uuid\n",
    "from confluent_kafka import Producer, Consumer, KafkaError, KafkaException\n",
    "from confluent_kafka.admin import AdminClient, NewTopic\n",
    "import json\n",
    "import config               #hidden config file with keys and login credentials\n",
    "\n",
    "#KAFKA variables\n",
    "confluentClusterName = config.confluentClusterName\n",
    "confluentBootstrapServers = config.confluentBootstrapServers\n",
    "confluentTopicName = config.confluentTopicName\n",
    "schemaRegistryUrl = config.schemaRegistryUrl\n",
    "confluentApiKey = config.confluentApiKey\n",
    "confluentSecret = config.confluentSecret\n",
    "confluentRegistryApiKey = config.confluentRegistryApiKey\n",
    "confluentRegistrySecret = config.confluentRegistrySecret\n",
    "\n",
    "admin_client = AdminClient({\n",
    "    'bootstrap.servers': confluentBootstrapServers,\n",
    "    'sasl.mechanism': 'PLAIN',\n",
    "    'security.protocol': 'SASL_SSL',\n",
    "    'sasl.username': confluentApiKey,\n",
    "    'sasl.password': confluentSecret,\n",
    "    'group.id': str(uuid.uuid1()),  # this will create a new consumer group on each invocation.\n",
    "    'auto.offset.reset': 'earliest',\n",
    "    'error_cb': error_cb,\n",
    "})"
   ]
  },
  {
   "cell_type": "markdown",
   "metadata": {},
   "source": [
    "**Create Topic**"
   ]
  },
  {
   "cell_type": "code",
   "execution_count": null,
   "metadata": {
    "application/vnd.databricks.v1+cell": {
     "inputWidgets": {},
     "nuid": "368f3783-6ae7-4756-992a-ea9d20614489",
     "showTitle": false,
     "title": ""
    }
   },
   "outputs": [
    {
     "data": {
      "text/html": [
       "<style scoped>\n",
       "  .ansiout {\n",
       "    display: block;\n",
       "    unicode-bidi: embed;\n",
       "    white-space: pre-wrap;\n",
       "    word-wrap: break-word;\n",
       "    word-break: break-all;\n",
       "    font-family: \"Source Code Pro\", \"Menlo\", monospace;;\n",
       "    font-size: 13px;\n",
       "    color: #555;\n",
       "    margin-left: 4px;\n",
       "    line-height: 19px;\n",
       "  }\n",
       "</style>\n",
       "<div class=\"ansiout\">type(k): &lt;class &#39;str&#39;&gt;\n",
       "type(v): &lt;class &#39;concurrent.futures._base.Future&#39;&gt;\n",
       "finally\n",
       "</div>"
      ]
     },
     "metadata": {
      "application/vnd.databricks.v1+output": {
       "addedWidgets": {},
       "arguments": {},
       "data": "<div class=\"ansiout\">type(k): &lt;class &#39;str&#39;&gt;\ntype(v): &lt;class &#39;concurrent.futures._base.Future&#39;&gt;\nfinally\n</div>",
       "datasetInfos": [],
       "metadata": {},
       "removedWidgets": [],
       "type": "html"
      }
     },
     "output_type": "display_data"
    },
    {
     "data": {
      "text/html": [
       "<style scoped>\n",
       "  .ansiout {\n",
       "    display: block;\n",
       "    unicode-bidi: embed;\n",
       "    white-space: pre-wrap;\n",
       "    word-wrap: break-word;\n",
       "    word-break: break-all;\n",
       "    font-family: \"Source Code Pro\", \"Menlo\", monospace;;\n",
       "    font-size: 13px;\n",
       "    color: #555;\n",
       "    margin-left: 4px;\n",
       "    line-height: 19px;\n",
       "  }\n",
       "</style>\n",
       "<div class=\"ansiout\"><span class=\"ansi-red-fg\">---------------------------------------------------------------------------</span>\n",
       "<span class=\"ansi-red-fg\">KafkaException</span>                            Traceback (most recent call last)\n",
       "<span class=\"ansi-green-fg\">&lt;command-1059330286235166&gt;</span> in <span class=\"ansi-cyan-fg\">&lt;module&gt;</span>\n",
       "<span class=\"ansi-green-intense-fg ansi-bold\">     11</span>         print<span class=\"ansi-blue-fg\">(</span><span class=\"ansi-blue-fg\">f&#34;type(k): {type(k)}&#34;</span><span class=\"ansi-blue-fg\">)</span>\n",
       "<span class=\"ansi-green-intense-fg ansi-bold\">     12</span>         print<span class=\"ansi-blue-fg\">(</span><span class=\"ansi-blue-fg\">f&#34;type(v): {type(future)}&#34;</span><span class=\"ansi-blue-fg\">)</span>\n",
       "<span class=\"ansi-green-fg\">---&gt; 13</span><span class=\"ansi-red-fg\">         </span>print<span class=\"ansi-blue-fg\">(</span>future<span class=\"ansi-blue-fg\">.</span>result<span class=\"ansi-blue-fg\">(</span><span class=\"ansi-blue-fg\">)</span><span class=\"ansi-blue-fg\">)</span>\n",
       "<span class=\"ansi-green-intense-fg ansi-bold\">     14</span> \n",
       "<span class=\"ansi-green-intense-fg ansi-bold\">     15</span> <span class=\"ansi-green-fg\">except</span> KafkaError<span class=\"ansi-blue-fg\">:</span>\n",
       "\n",
       "<span class=\"ansi-green-fg\">/usr/lib/python3.8/concurrent/futures/_base.py</span> in <span class=\"ansi-cyan-fg\">result</span><span class=\"ansi-blue-fg\">(self, timeout)</span>\n",
       "<span class=\"ansi-green-intense-fg ansi-bold\">    442</span>                     <span class=\"ansi-green-fg\">raise</span> CancelledError<span class=\"ansi-blue-fg\">(</span><span class=\"ansi-blue-fg\">)</span>\n",
       "<span class=\"ansi-green-intense-fg ansi-bold\">    443</span>                 <span class=\"ansi-green-fg\">elif</span> self<span class=\"ansi-blue-fg\">.</span>_state <span class=\"ansi-blue-fg\">==</span> FINISHED<span class=\"ansi-blue-fg\">:</span>\n",
       "<span class=\"ansi-green-fg\">--&gt; 444</span><span class=\"ansi-red-fg\">                     </span><span class=\"ansi-green-fg\">return</span> self<span class=\"ansi-blue-fg\">.</span>__get_result<span class=\"ansi-blue-fg\">(</span><span class=\"ansi-blue-fg\">)</span>\n",
       "<span class=\"ansi-green-intense-fg ansi-bold\">    445</span>                 <span class=\"ansi-green-fg\">else</span><span class=\"ansi-blue-fg\">:</span>\n",
       "<span class=\"ansi-green-intense-fg ansi-bold\">    446</span>                     <span class=\"ansi-green-fg\">raise</span> TimeoutError<span class=\"ansi-blue-fg\">(</span><span class=\"ansi-blue-fg\">)</span>\n",
       "\n",
       "<span class=\"ansi-green-fg\">/usr/lib/python3.8/concurrent/futures/_base.py</span> in <span class=\"ansi-cyan-fg\">__get_result</span><span class=\"ansi-blue-fg\">(self)</span>\n",
       "<span class=\"ansi-green-intense-fg ansi-bold\">    387</span>         <span class=\"ansi-green-fg\">if</span> self<span class=\"ansi-blue-fg\">.</span>_exception<span class=\"ansi-blue-fg\">:</span>\n",
       "<span class=\"ansi-green-intense-fg ansi-bold\">    388</span>             <span class=\"ansi-green-fg\">try</span><span class=\"ansi-blue-fg\">:</span>\n",
       "<span class=\"ansi-green-fg\">--&gt; 389</span><span class=\"ansi-red-fg\">                 </span><span class=\"ansi-green-fg\">raise</span> self<span class=\"ansi-blue-fg\">.</span>_exception\n",
       "<span class=\"ansi-green-intense-fg ansi-bold\">    390</span>             <span class=\"ansi-green-fg\">finally</span><span class=\"ansi-blue-fg\">:</span>\n",
       "<span class=\"ansi-green-intense-fg ansi-bold\">    391</span>                 <span class=\"ansi-red-fg\"># Break a reference cycle with the exception in self._exception</span>\n",
       "\n",
       "<span class=\"ansi-red-fg\">KafkaException</span>: KafkaError{code=TOPIC_ALREADY_EXISTS,val=36,str=&#34;Topic &#39;diabetesfinal-10&#39; already exists.&#34;}</div>"
      ]
     },
     "metadata": {
      "application/vnd.databricks.v1+output": {
       "arguments": {},
       "data": "<div class=\"ansiout\"><span class=\"ansi-red-fg\">---------------------------------------------------------------------------</span>\n<span class=\"ansi-red-fg\">KafkaException</span>                            Traceback (most recent call last)\n<span class=\"ansi-green-fg\">&lt;command-1059330286235166&gt;</span> in <span class=\"ansi-cyan-fg\">&lt;module&gt;</span>\n<span class=\"ansi-green-intense-fg ansi-bold\">     11</span>         print<span class=\"ansi-blue-fg\">(</span><span class=\"ansi-blue-fg\">f&#34;type(k): {type(k)}&#34;</span><span class=\"ansi-blue-fg\">)</span>\n<span class=\"ansi-green-intense-fg ansi-bold\">     12</span>         print<span class=\"ansi-blue-fg\">(</span><span class=\"ansi-blue-fg\">f&#34;type(v): {type(future)}&#34;</span><span class=\"ansi-blue-fg\">)</span>\n<span class=\"ansi-green-fg\">---&gt; 13</span><span class=\"ansi-red-fg\">         </span>print<span class=\"ansi-blue-fg\">(</span>future<span class=\"ansi-blue-fg\">.</span>result<span class=\"ansi-blue-fg\">(</span><span class=\"ansi-blue-fg\">)</span><span class=\"ansi-blue-fg\">)</span>\n<span class=\"ansi-green-intense-fg ansi-bold\">     14</span> \n<span class=\"ansi-green-intense-fg ansi-bold\">     15</span> <span class=\"ansi-green-fg\">except</span> KafkaError<span class=\"ansi-blue-fg\">:</span>\n\n<span class=\"ansi-green-fg\">/usr/lib/python3.8/concurrent/futures/_base.py</span> in <span class=\"ansi-cyan-fg\">result</span><span class=\"ansi-blue-fg\">(self, timeout)</span>\n<span class=\"ansi-green-intense-fg ansi-bold\">    442</span>                     <span class=\"ansi-green-fg\">raise</span> CancelledError<span class=\"ansi-blue-fg\">(</span><span class=\"ansi-blue-fg\">)</span>\n<span class=\"ansi-green-intense-fg ansi-bold\">    443</span>                 <span class=\"ansi-green-fg\">elif</span> self<span class=\"ansi-blue-fg\">.</span>_state <span class=\"ansi-blue-fg\">==</span> FINISHED<span class=\"ansi-blue-fg\">:</span>\n<span class=\"ansi-green-fg\">--&gt; 444</span><span class=\"ansi-red-fg\">                     </span><span class=\"ansi-green-fg\">return</span> self<span class=\"ansi-blue-fg\">.</span>__get_result<span class=\"ansi-blue-fg\">(</span><span class=\"ansi-blue-fg\">)</span>\n<span class=\"ansi-green-intense-fg ansi-bold\">    445</span>                 <span class=\"ansi-green-fg\">else</span><span class=\"ansi-blue-fg\">:</span>\n<span class=\"ansi-green-intense-fg ansi-bold\">    446</span>                     <span class=\"ansi-green-fg\">raise</span> TimeoutError<span class=\"ansi-blue-fg\">(</span><span class=\"ansi-blue-fg\">)</span>\n\n<span class=\"ansi-green-fg\">/usr/lib/python3.8/concurrent/futures/_base.py</span> in <span class=\"ansi-cyan-fg\">__get_result</span><span class=\"ansi-blue-fg\">(self)</span>\n<span class=\"ansi-green-intense-fg ansi-bold\">    387</span>         <span class=\"ansi-green-fg\">if</span> self<span class=\"ansi-blue-fg\">.</span>_exception<span class=\"ansi-blue-fg\">:</span>\n<span class=\"ansi-green-intense-fg ansi-bold\">    388</span>             <span class=\"ansi-green-fg\">try</span><span class=\"ansi-blue-fg\">:</span>\n<span class=\"ansi-green-fg\">--&gt; 389</span><span class=\"ansi-red-fg\">                 </span><span class=\"ansi-green-fg\">raise</span> self<span class=\"ansi-blue-fg\">.</span>_exception\n<span class=\"ansi-green-intense-fg ansi-bold\">    390</span>             <span class=\"ansi-green-fg\">finally</span><span class=\"ansi-blue-fg\">:</span>\n<span class=\"ansi-green-intense-fg ansi-bold\">    391</span>                 <span class=\"ansi-red-fg\"># Break a reference cycle with the exception in self._exception</span>\n\n<span class=\"ansi-red-fg\">KafkaException</span>: KafkaError{code=TOPIC_ALREADY_EXISTS,val=36,str=&#34;Topic &#39;diabetesfinal-10&#39; already exists.&#34;}</div>",
       "errorSummary": "<span class=\"ansi-red-fg\">KafkaException</span>: KafkaError{code=TOPIC_ALREADY_EXISTS,val=36,str=&#34;Topic &#39;diabetesfinal-10&#39; already exists.&#34;}",
       "errorTraceType": "html",
       "metadata": {},
       "type": "ipynbError"
      }
     },
     "output_type": "display_data"
    }
   ],
   "source": [
    "topic_list = []\n",
    "\n",
    "topic_list.append(NewTopic(\"diabetesfinal-10\", 1, 3))\n",
    "admin_client.create_topics(topic_list)\n",
    "futures = admin_client.create_topics(topic_list)\n",
    "\n",
    "try:\n",
    "    record_metadata = []\n",
    "    for k, future in futures.items():\n",
    "        # f = i.get(timeout=10)\n",
    "        print(f\"type(k): {type(k)}\")\n",
    "        print(f\"type(v): {type(future)}\")\n",
    "        print(future.result())\n",
    "\n",
    "except KafkaError:\n",
    "    # Decide what to do if produce request failed...\n",
    "    print(traceback.format_exc())\n",
    "    result = 'Fail'\n",
    "finally:\n",
    "    print(\"finally\")"
   ]
  }
 ],
 "metadata": {
  "application/vnd.databricks.v1+notebook": {
   "dashboards": [],
   "language": "python",
   "notebookMetadata": {
    "pythonIndentUnit": 4
   },
   "notebookName": "create topic",
   "notebookOrigID": 1059330286235165,
   "widgets": {}
  },
  "kernelspec": {
   "display_name": "Python 3",
   "language": "python",
   "name": "python3"
  },
  "language_info": {
   "codemirror_mode": {
    "name": "ipython",
    "version": 3
   },
   "file_extension": ".py",
   "mimetype": "text/x-python",
   "name": "python",
   "nbconvert_exporter": "python",
   "pygments_lexer": "ipython3",
   "version": "3.8.8"
  }
 },
 "nbformat": 4,
 "nbformat_minor": 4
}
