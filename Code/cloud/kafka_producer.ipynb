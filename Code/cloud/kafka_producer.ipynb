{
 "cells": [
  {
   "cell_type": "markdown",
   "metadata": {},
   "source": [
    "# Kafka Producer"
   ]
  },
  {
   "cell_type": "markdown",
   "metadata": {},
   "source": [
    "**Set Cluster Mount Point**"
   ]
  },
  {
   "cell_type": "code",
   "execution_count": null,
   "metadata": {
    "application/vnd.databricks.v1+cell": {
     "inputWidgets": {},
     "nuid": "e5bd877b-9fe0-421c-9aaf-7bb3493c1433",
     "showTitle": true,
     "title": "MOUNT POINT ONE"
    }
   },
   "outputs": [
    {
     "data": {
      "text/html": [
       "<style scoped>\n",
       "  .ansiout {\n",
       "    display: block;\n",
       "    unicode-bidi: embed;\n",
       "    white-space: pre-wrap;\n",
       "    word-wrap: break-word;\n",
       "    word-break: break-all;\n",
       "    font-family: \"Source Code Pro\", \"Menlo\", monospace;;\n",
       "    font-size: 13px;\n",
       "    color: #555;\n",
       "    margin-left: 4px;\n",
       "    line-height: 19px;\n",
       "  }\n",
       "</style>\n",
       "<div class=\"ansiout\"></div>"
      ]
     },
     "metadata": {
      "application/vnd.databricks.v1+output": {
       "addedWidgets": {},
       "arguments": {},
       "data": "<div class=\"ansiout\"></div>",
       "datasetInfos": [],
       "metadata": {},
       "removedWidgets": [],
       "type": "html"
      }
     },
     "output_type": "display_data"
    }
   ],
   "source": [
    "# import os.path\n",
    "\n",
    "# ###### Mount Point 1 through Oauth security.\n",
    "# storageAccount = \"gen10dbcdatalake\"\n",
    "# storageContainer = \"diabeetus-capstone\"\n",
    "# clientSecret = config.clientSecret\n",
    "# clientid = config.clientid\n",
    "# mount_point = \"/mnt/eddydoering/diabeetus\"\n",
    "\n",
    "\n",
    "\n",
    "# configs = {\"fs.azure.account.auth.type\": \"OAuth\",\n",
    "#        \"fs.azure.account.oauth.provider.type\": \"org.apache.hadoop.fs.azurebfs.oauth2.ClientCredsTokenProvider\",\n",
    "#        \"fs.azure.account.oauth2.client.id\": clientid,\n",
    "#        \"fs.azure.account.oauth2.client.secret\": clientSecret,\n",
    "#        \"fs.azure.account.oauth2.client.endpoint\": \"https://login.microsoftonline.com/d46b54b2-a652-420b-aa5a-2ef7f8fc706e/oauth2/token\",\n",
    "#        \"fs.azure.createRemoteFileSystemDuringInitialization\": \"true\"}\n",
    "\n",
    "# try: \n",
    "#     dbutils.fs.unmount(mount_point)\n",
    "# except:\n",
    "#     pass\n",
    "\n",
    "# dbutils.fs.mount(\n",
    "# source = \"abfss://\"+storageContainer+\"@\"+storageAccount+\".dfs.core.windows.net/\",\n",
    "# mount_point = mount_point,\n",
    "# extra_configs = configs)"
   ]
  },
  {
   "cell_type": "markdown",
   "metadata": {},
   "source": [
    "**Read Raw CSV as list of dictionaries, where each row is one dictionary**"
   ]
  },
  {
   "cell_type": "code",
   "execution_count": null,
   "metadata": {
    "application/vnd.databricks.v1+cell": {
     "inputWidgets": {},
     "nuid": "8387f64c-e210-4f88-afbe-84c8b96cdee9",
     "showTitle": true,
     "title": "Import Files"
    }
   },
   "outputs": [],
   "source": [
    "import csv\n",
    "list_dict = spark.read.csv(\"/mnt/eddydoering/diabeetus/diabetic_data.csv\", header = \"true\").toPandas().to_dict(orient=\"records\")"
   ]
  },
  {
   "cell_type": "markdown",
   "metadata": {},
   "source": [
    "**Error Functions**"
   ]
  },
  {
   "cell_type": "code",
   "execution_count": null,
   "metadata": {
    "application/vnd.databricks.v1+cell": {
     "inputWidgets": {},
     "nuid": "0fe31a6a-f1c2-4325-9056-03f7f1bc75c2",
     "showTitle": true,
     "title": "Error Stuff"
    }
   },
   "outputs": [
    {
     "data": {
      "text/html": [
       "<style scoped>\n",
       "  .ansiout {\n",
       "    display: block;\n",
       "    unicode-bidi: embed;\n",
       "    white-space: pre-wrap;\n",
       "    word-wrap: break-word;\n",
       "    word-break: break-all;\n",
       "    font-family: \"Source Code Pro\", \"Menlo\", monospace;;\n",
       "    font-size: 13px;\n",
       "    color: #555;\n",
       "    margin-left: 4px;\n",
       "    line-height: 19px;\n",
       "  }\n",
       "</style>\n",
       "<div class=\"ansiout\"></div>"
      ]
     },
     "metadata": {
      "application/vnd.databricks.v1+output": {
       "addedWidgets": {},
       "arguments": {},
       "data": "<div class=\"ansiout\"></div>",
       "datasetInfos": [],
       "metadata": {},
       "removedWidgets": [],
       "type": "html"
      }
     },
     "output_type": "display_data"
    }
   ],
   "source": [
    "def error_cb(err):\n",
    "    \"\"\" The error callback is used for generic client errors. These\n",
    "        errors are generally to be considered informational as the client will\n",
    "        automatically try to recover from all errors, and no extra action\n",
    "        is typically required by the application.\n",
    "        For this example however, we terminate the application if the client\n",
    "        is unable to connect to any broker (_ALL_BROKERS_DOWN) and on\n",
    "        authentication errors (_AUTHENTICATION). \"\"\"\n",
    "\n",
    "    print(\"Client error: {}\".format(err))\n",
    "    if err.code() == KafkaError._ALL_BROKERS_DOWN or \\\n",
    "       err.code() == KafkaError._AUTHENTICATION:\n",
    "        # Any exception raised from this callback will be re-raised from the\n",
    "        # triggering flush() or poll() call.\n",
    "        raise KafkaException(err)\n",
    "\n",
    "\n",
    "def acked(err, msg):\n",
    "    \"\"\" \n",
    "        Error callback is used for generic issues for producer errors. \n",
    "        \n",
    "        Parameters:\n",
    "            err (err): Error flag.\n",
    "            msg (str): Error message that was part of the callback.\n",
    "    \"\"\"\n",
    "    if err is not None:\n",
    "        print(\"Failed to deliver message: %s: %s\" % (str(msg), str(err)))\n",
    "    else:\n",
    "        print(\"Message produced: %s\" % (str(msg)))"
   ]
  },
  {
   "cell_type": "markdown",
   "metadata": {},
   "source": [
    "**Setup Producer Parameters**"
   ]
  },
  {
   "cell_type": "code",
   "execution_count": null,
   "metadata": {
    "application/vnd.databricks.v1+cell": {
     "inputWidgets": {},
     "nuid": "73d0ac74-749e-44a1-af4c-f263de7b2d6c",
     "showTitle": true,
     "title": "Setting up producer and connection strings"
    }
   },
   "outputs": [
    {
     "data": {
      "text/html": [
       "<style scoped>\n",
       "  .ansiout {\n",
       "    display: block;\n",
       "    unicode-bidi: embed;\n",
       "    white-space: pre-wrap;\n",
       "    word-wrap: break-word;\n",
       "    word-break: break-all;\n",
       "    font-family: \"Source Code Pro\", \"Menlo\", monospace;;\n",
       "    font-size: 13px;\n",
       "    color: #555;\n",
       "    margin-left: 4px;\n",
       "    line-height: 19px;\n",
       "  }\n",
       "</style>\n",
       "<div class=\"ansiout\"></div>"
      ]
     },
     "metadata": {
      "application/vnd.databricks.v1+output": {
       "addedWidgets": {},
       "arguments": {},
       "data": "<div class=\"ansiout\"></div>",
       "datasetInfos": [],
       "metadata": {},
       "removedWidgets": [],
       "type": "html"
      }
     },
     "output_type": "display_data"
    }
   ],
   "source": [
    "from confluent_kafka import Consumer\n",
    "from time import sleep\n",
    "import uuid\n",
    "from confluent_kafka import Producer, Consumer, KafkaError, KafkaException\n",
    "from confluent_kafka.admin import AdminClient, NewTopic\n",
    "\n",
    "\n",
    "#KAFKA variables\n",
    "confluentClusterName = config.confluentClusterName\n",
    "confluentBootstrapServers = config.confluentBootstrapServers\n",
    "confluentTopicName = config.confluentTopicName\n",
    "schemaRegistryUrl = config.schemaRegistryUrl\n",
    "confluentApiKey = config.confluentApiKey\n",
    "confluentSecret = config.confluentSecret\n",
    "confluentRegistryApiKey = config.confluentRegistryApiKey\n",
    "confluentRegistrySecret = config.confluentRegistrySecret\n",
    "\n",
    "admin_client = AdminClient({\n",
    "    'bootstrap.servers': confluentBootstrapServers,\n",
    "    'sasl.mechanism': 'PLAIN',\n",
    "    'security.protocol': 'SASL_SSL',\n",
    "    'sasl.username': confluentApiKey,\n",
    "    'sasl.password': confluentSecret,\n",
    "    'group.id': str(uuid.uuid1()),  # this will create a new consumer group on each invocation.\n",
    "    'auto.offset.reset': 'earliest',\n",
    "    'error_cb': error_cb,\n",
    "})\n",
    "\n",
    "\n",
    "#Kakfa Class Setup.\n",
    "p = Producer({\n",
    "    'bootstrap.servers': confluentBootstrapServers,\n",
    "    'sasl.mechanism': 'PLAIN',\n",
    "    'security.protocol': 'SASL_SSL',\n",
    "    'sasl.username': confluentApiKey,\n",
    "    'sasl.password': confluentSecret,\n",
    "    'group.id': str(uuid.uuid1()),  # this will create a new consumer group on each invocation.\n",
    "    'auto.offset.reset': 'earliest',\n",
    "    'error_cb': error_cb,\n",
    "})"
   ]
  },
  {
   "cell_type": "markdown",
   "metadata": {},
   "source": [
    "**Run Producer**"
   ]
  },
  {
   "cell_type": "code",
   "execution_count": null,
   "metadata": {
    "application/vnd.databricks.v1+cell": {
     "inputWidgets": {},
     "nuid": "1d6b7b69-c30b-4f9f-91c0-5eb389b51a59",
     "showTitle": false,
     "title": ""
    }
   },
   "outputs": [
    {
     "data": {
      "text/html": [
       "<style scoped>\n",
       "  .ansiout {\n",
       "    display: block;\n",
       "    unicode-bidi: embed;\n",
       "    white-space: pre-wrap;\n",
       "    word-wrap: break-word;\n",
       "    word-break: break-all;\n",
       "    font-family: \"Source Code Pro\", \"Menlo\", monospace;;\n",
       "    font-size: 13px;\n",
       "    color: #555;\n",
       "    margin-left: 4px;\n",
       "    line-height: 19px;\n",
       "  }\n",
       "</style>\n",
       "<div class=\"ansiout\"></div>"
      ]
     },
     "metadata": {
      "application/vnd.databricks.v1+output": {
       "addedWidgets": {},
       "arguments": {},
       "data": "<div class=\"ansiout\"></div>",
       "datasetInfos": [],
       "metadata": {},
       "removedWidgets": [],
       "type": "html"
      }
     },
     "output_type": "display_data"
    },
    {
     "data": {
      "text/html": [
       "<style scoped>\n",
       "  .ansiout {\n",
       "    display: block;\n",
       "    unicode-bidi: embed;\n",
       "    white-space: pre-wrap;\n",
       "    word-wrap: break-word;\n",
       "    word-break: break-all;\n",
       "    font-family: \"Source Code Pro\", \"Menlo\", monospace;;\n",
       "    font-size: 13px;\n",
       "    color: #555;\n",
       "    margin-left: 4px;\n",
       "    line-height: 19px;\n",
       "  }\n",
       "</style>"
      ]
     },
     "metadata": {
      "application/vnd.databricks.v1+output": {
       "arguments": {},
       "data": "",
       "errorSummary": "Cancelled",
       "errorTraceType": "html",
       "metadata": {},
       "type": "ipynbError"
      }
     },
     "output_type": "display_data"
    }
   ],
   "source": [
    "import json\n",
    "\n",
    "for item in list_dict:\n",
    "    p.produce(\"diabetesfinal-10\", json.dumps(item))\n",
    "    p.flush()\n",
    "    sleep(0.25)"
   ]
  }
 ],
 "metadata": {
  "application/vnd.databricks.v1+notebook": {
   "dashboards": [],
   "language": "python",
   "notebookMetadata": {
    "pythonIndentUnit": 4
   },
   "notebookName": "Capstone_Producer (1)",
   "notebookOrigID": 1784254427174143,
   "widgets": {}
  },
  "kernelspec": {
   "display_name": "Python 3",
   "language": "python",
   "name": "python3"
  },
  "language_info": {
   "codemirror_mode": {
    "name": "ipython",
    "version": 3
   },
   "file_extension": ".py",
   "mimetype": "text/x-python",
   "name": "python",
   "nbconvert_exporter": "python",
   "pygments_lexer": "ipython3",
   "version": "3.8.8"
  }
 },
 "nbformat": 4,
 "nbformat_minor": 4
}
